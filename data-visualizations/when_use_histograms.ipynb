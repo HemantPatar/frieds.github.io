{
 "cells": [
  {
   "cell_type": "markdown",
   "metadata": {},
   "source": [
    "Title: When to Use Histogram Plots\n",
    "Slug: when-use-histogram\n",
    "Summary: Examples of datasets to illustrate when to use histograms to visualize the distribution of a continous variable\n",
    "Date: 2018-06-13 23:00  \n",
    "Category: Data Visualizations\n",
    "Subcategory: Best Practices\n",
    "PostType: Tutorial\n",
    "Tags: histogram\n",
    "Keywords: when use histogram plots\n",
    "Authors: Dan Friedman"
   ]
  },
  {
   "cell_type": "markdown",
   "metadata": {},
   "source": [
    "**Histograms** visualize the shape of the distribution for a single continuous variable that contains numerical values. A histogram displays data using bars of different heights.\n",
    "\n",
    "Histograms are slightly similar to vertical bar charts; however, with histograms, numerical values are grouped into **bins**. For example, you could create a histogram of the mass (in pounds) of everyone at your university. In doing so, you'd need to create bins so that the mass of people from 40 pounds to 60 pounds is one bin, and 60 pounds to 80 pounds is another bin, and so forth. \n",
    "\n",
    "In histogram plots, the bars should should have no spacing between them.\n",
    "\n",
    "Similar to box plots, histograms visualize the distribution of a dataset. However, box plots are often more ideal for identifying outliers, if any exist.\n",
    "\n",
    "Below, I'll walk through a few examples below of when histograms are useful."
   ]
  },
  {
   "cell_type": "markdown",
   "metadata": {},
   "source": [
    "#### Import Modules"
   ]
  },
  {
   "cell_type": "code",
   "execution_count": 39,
   "metadata": {
    "collapsed": false
   },
   "outputs": [],
   "source": [
    "import seaborn as sns\n",
    "import matplotlib.pyplot as plt\n",
    "import pandas as pd\n",
    "% matplotlib inline"
   ]
  },
  {
   "cell_type": "markdown",
   "metadata": {},
   "source": [
    "Makes all figure sizes larger."
   ]
  },
  {
   "cell_type": "code",
   "execution_count": 58,
   "metadata": {},
   "outputs": [],
   "source": [
    "sns.set(rc={'figure.figsize':(11.5, 8.5)})"
   ]
  },
  {
   "cell_type": "markdown",
   "metadata": {},
   "source": [
    "### Example: Bay Area Bike Share Ride Duration Data"
   ]
  },
  {
   "cell_type": "markdown",
   "metadata": {},
   "source": [
    "In the San Francisco Bay Area, a company Motivate operates a network of bikes across several cities. You can walk up to a bike, pay and unlock it from a dock, ride it to your destination, and park it in another nearby dock.\n",
    "\n",
    "There's an option to become a member (aka subscriber) in which you pay a monthly subscription fee that includes unlimited rides that are up to 30 minutes long. When someone becomes a member, they can submit information on their birth year and gender.\n",
    "\n",
    "For each ride, Motivate records data on the start time, end time, member birth year and member gender.\n",
    "\n",
    "I'm curious to learn more about the duration of bike rides by customers."
   ]
  },
  {
   "cell_type": "markdown",
   "metadata": {},
   "source": [
    "#### Load Dataset on May 2018 Rides"
   ]
  },
  {
   "cell_type": "code",
   "execution_count": 59,
   "metadata": {},
   "outputs": [],
   "source": [
    "df = pd.read_csv('201805-fordgobike-tripdata.csv')"
   ]
  },
  {
   "cell_type": "markdown",
   "metadata": {},
   "source": [
    "#### Preview Some Data"
   ]
  },
  {
   "cell_type": "code",
   "execution_count": 60,
   "metadata": {},
   "outputs": [
    {
     "data": {
      "text/html": [
       "<div>\n",
       "<table border=\"1\" class=\"dataframe\">\n",
       "  <thead>\n",
       "    <tr style=\"text-align: right;\">\n",
       "      <th></th>\n",
       "      <th>start_time</th>\n",
       "      <th>end_time</th>\n",
       "      <th>duration_sec</th>\n",
       "      <th>member_birth_year</th>\n",
       "      <th>member_gender</th>\n",
       "    </tr>\n",
       "  </thead>\n",
       "  <tbody>\n",
       "    <tr>\n",
       "      <th>0</th>\n",
       "      <td>2018-05-31 21:41:51.4750</td>\n",
       "      <td>2018-06-01 13:28:22.7220</td>\n",
       "      <td>56791</td>\n",
       "      <td>NaN</td>\n",
       "      <td>NaN</td>\n",
       "    </tr>\n",
       "    <tr>\n",
       "      <th>1</th>\n",
       "      <td>2018-05-31 18:39:53.7690</td>\n",
       "      <td>2018-06-01 09:19:51.5410</td>\n",
       "      <td>52797</td>\n",
       "      <td>1983.0</td>\n",
       "      <td>Male</td>\n",
       "    </tr>\n",
       "    <tr>\n",
       "      <th>2</th>\n",
       "      <td>2018-05-31 21:09:48.0150</td>\n",
       "      <td>2018-06-01 09:09:52.4850</td>\n",
       "      <td>43204</td>\n",
       "      <td>NaN</td>\n",
       "      <td>NaN</td>\n",
       "    </tr>\n",
       "    <tr>\n",
       "      <th>3</th>\n",
       "      <td>2018-05-31 14:09:54.9720</td>\n",
       "      <td>2018-06-01 08:48:17.8150</td>\n",
       "      <td>67102</td>\n",
       "      <td>1979.0</td>\n",
       "      <td>Male</td>\n",
       "    </tr>\n",
       "    <tr>\n",
       "      <th>4</th>\n",
       "      <td>2018-05-31 16:07:23.8570</td>\n",
       "      <td>2018-06-01 08:28:47.2020</td>\n",
       "      <td>58883</td>\n",
       "      <td>1986.0</td>\n",
       "      <td>Male</td>\n",
       "    </tr>\n",
       "  </tbody>\n",
       "</table>\n",
       "</div>"
      ],
      "text/plain": [
       "                 start_time                  end_time  duration_sec  \\\n",
       "0  2018-05-31 21:41:51.4750  2018-06-01 13:28:22.7220         56791   \n",
       "1  2018-05-31 18:39:53.7690  2018-06-01 09:19:51.5410         52797   \n",
       "2  2018-05-31 21:09:48.0150  2018-06-01 09:09:52.4850         43204   \n",
       "3  2018-05-31 14:09:54.9720  2018-06-01 08:48:17.8150         67102   \n",
       "4  2018-05-31 16:07:23.8570  2018-06-01 08:28:47.2020         58883   \n",
       "\n",
       "   member_birth_year member_gender  \n",
       "0                NaN           NaN  \n",
       "1             1983.0          Male  \n",
       "2                NaN           NaN  \n",
       "3             1979.0          Male  \n",
       "4             1986.0          Male  "
      ]
     },
     "execution_count": 60,
     "metadata": {},
     "output_type": "execute_result"
    }
   ],
   "source": [
    "df[['start_time', 'end_time', 'duration_sec', 'member_birth_year', 'member_gender']].head()"
   ]
  },
  {
   "cell_type": "markdown",
   "metadata": {},
   "source": [
    "#### Make New Column for Ride Time in Minutes"
   ]
  },
  {
   "cell_type": "markdown",
   "metadata": {},
   "source": [
    "They record duration of rides in seconds because it's a granular metric of duration. However, when we discuss bike rides with friends, we typically say 20 minutes, not 1200 seconds.\n",
    "\n",
    "Below, I create a new column to convert the duration of rides in seconds into minutes."
   ]
  },
  {
   "cell_type": "code",
   "execution_count": 61,
   "metadata": {},
   "outputs": [],
   "source": [
    "df['duration_minutes'] = df['duration_sec']/60"
   ]
  },
  {
   "cell_type": "markdown",
   "metadata": {},
   "source": [
    "#### View Descriptive Statistics of Ride Time in Minutes"
   ]
  },
  {
   "cell_type": "markdown",
   "metadata": {},
   "source": [
    "Below, we can see the shortest ride was 1 minute and the maximum was 1436 minutes - that's almost a 24 hour ride! \n",
    "\n",
    "The 99th percentile value is 91.5 minutes, which is over three times as large as the 95th percentile value of 30.63 minutes."
   ]
  },
  {
   "cell_type": "code",
   "execution_count": 62,
   "metadata": {},
   "outputs": [
    {
     "data": {
      "text/plain": [
       "count    179125.000000\n",
       "mean         14.248406\n",
       "std          39.942553\n",
       "min           1.016667\n",
       "25%           5.700000\n",
       "50%           9.133333\n",
       "75%          14.500000\n",
       "90%          22.600000\n",
       "95%          30.633333\n",
       "99%          91.500000\n",
       "99.9%       687.312667\n",
       "max        1436.800000\n",
       "Name: duration_minutes, dtype: float64"
      ]
     },
     "execution_count": 62,
     "metadata": {},
     "output_type": "execute_result"
    }
   ],
   "source": [
    "df['duration_minutes'].describe(percentiles=[.25, .5, .75, .9, .95, .99, .999])"
   ]
  },
  {
   "cell_type": "markdown",
   "metadata": {},
   "source": [
    "#### Plot Histogram of Ride Time in Minutes"
   ]
  },
  {
   "cell_type": "markdown",
   "metadata": {},
   "source": [
    "Below, I limit my histogram to show rides up to 91 minutes because that's still the 99th percentile. I don't want my visualization to be distorted by outliers. A focus on up to the 99th percentile will help us draw insights on the patterns of the majority of riders.\n",
    "\n",
    "The Seaborn visualization library in Python automatically determines bin size using the Freedman-Diaconis rule. This is a very convenient feature to have!"
   ]
  },
  {
   "cell_type": "code",
   "execution_count": 63,
   "metadata": {},
   "outputs": [
    {
     "data": {
      "image/png": "[encoded data removed]",
      "text/plain": [
       "<matplotlib.figure.Figure at 0x1169657f0>"
      ]
     },
     "metadata": {},
     "output_type": "display_data"
    }
   ],
   "source": [
    "sns.set_context(\"talk\")\n",
    "ax = sns.distplot(df['duration_minutes'], kde=False, color='b', hist_kws={\"range\": [0, 91]})\n",
    "ax.axes.set_title(\"Histogram of Duration of Bike Rides (in Minutes)\", fontsize=20, y=1.01)\n",
    "ax.set(xlabel='ride duration [minutes]', ylabel='frequency');"
   ]
  },
  {
   "cell_type": "markdown",
   "metadata": {},
   "source": [
    "#### Interpretation of Bike Ride Duration Histogram"
   ]
  },
  {
   "cell_type": "markdown",
   "metadata": {},
   "source": [
    "The highest occurence of bike rides are around 7 minutes.\n",
    "\n",
    "Most bike rides are just from 3 - 15 minutes which I consider fairly short rides. Therefore, I could theorize that bay area bike share members infrequently use these bikes for long strenous exercises riding long distances. Rather, they likely use bike rides for short distances.\n",
    "\n",
    "The histogram illustrates positive skew. This means there's a long tail on the right side of our peak. Because of this skew, the mean ride duration is larger than the median ride duration. Below, I printed out the mean and median so we can verify that while the mean ride duration is 14.24 minutes, the median is smaller at 9.13 minutes. "
   ]
  },
  {
   "cell_type": "code",
   "execution_count": 64,
   "metadata": {},
   "outputs": [
    {
     "data": {
      "text/plain": [
       "14.248405768783414"
      ]
     },
     "execution_count": 64,
     "metadata": {},
     "output_type": "execute_result"
    }
   ],
   "source": [
    "df['duration_minutes'].mean()"
   ]
  },
  {
   "cell_type": "code",
   "execution_count": 65,
   "metadata": {},
   "outputs": [
    {
     "data": {
      "text/plain": [
       "9.133333333333333"
      ]
     },
     "execution_count": 65,
     "metadata": {},
     "output_type": "execute_result"
    }
   ],
   "source": [
    "df['duration_minutes'].median()"
   ]
  },
  {
   "cell_type": "markdown",
   "metadata": {},
   "source": [
    "### Example: Age of Bike Riders"
   ]
  },
  {
   "cell_type": "markdown",
   "metadata": {},
   "source": [
    "I'm curious to learn about the age distribution of members of the bay area bike share program. "
   ]
  },
  {
   "cell_type": "markdown",
   "metadata": {},
   "source": [
    "#### Create New Column for Age (in Years)"
   ]
  },
  {
   "cell_type": "markdown",
   "metadata": {},
   "source": [
    "They record the birth year of members. However, it's easier to interpret the age in years rather than year of birth."
   ]
  },
  {
   "cell_type": "code",
   "execution_count": 66,
   "metadata": {},
   "outputs": [],
   "source": [
    "df['age_years'] = 2018 - df['member_birth_year']"
   ]
  },
  {
   "cell_type": "markdown",
   "metadata": {},
   "source": [
    "#### View Descriptive Statistics on Riders' Age"
   ]
  },
  {
   "cell_type": "markdown",
   "metadata": {},
   "source": [
    "Below, we can see 18 is the youngest rider and the oldest is 129. However, the 99th percentile is 66 years old, nearly half the age of the maximum rider."
   ]
  },
  {
   "cell_type": "code",
   "execution_count": 67,
   "metadata": {},
   "outputs": [
    {
     "data": {
      "text/plain": [
       "count     167376.000000\n",
       "mean          35.813575\n",
       "std           10.320561\n",
       "min           18.000000\n",
       "25%           28.000000\n",
       "50%           33.000000\n",
       "75%           41.000000\n",
       "99%           66.000000\n",
       "99.99%       118.000000\n",
       "max          129.000000\n",
       "Name: age_years, dtype: float64"
      ]
     },
     "execution_count": 67,
     "metadata": {},
     "output_type": "execute_result"
    }
   ],
   "source": [
    "df['age_years'].describe(percentiles=[.25, .5, 0.75, 0.99, 0.9999])"
   ]
  },
  {
   "cell_type": "markdown",
   "metadata": {},
   "source": [
    "#### Plot Histogram of Age of Bike Riders"
   ]
  },
  {
   "cell_type": "markdown",
   "metadata": {},
   "source": [
    "I limit the range of the x-axis (age) to be just 18 to 80 so we can more easily visualize the bulk of riders, and disregard the outliers well over 80."
   ]
  },
  {
   "cell_type": "code",
   "execution_count": 68,
   "metadata": {},
   "outputs": [],
   "source": [
    "df_age_members = df[df['age_years'].notnull()]['age_years']"
   ]
  },
  {
   "cell_type": "code",
   "execution_count": 69,
   "metadata": {},
   "outputs": [
    {
     "data": {
      "image/png": "[encoded data removed]",
      "text/plain": [
       "<matplotlib.figure.Figure at 0x117fa85c0>"
      ]
     },
     "metadata": {},
     "output_type": "display_data"
    }
   ],
   "source": [
    "ax2 = sns.distplot(df_age_members, color='g', kde=False, hist_kws={\"range\": [18, 80]})\n",
    "ax2.axes.set_title(\"Histogram of Age of Bike Members\", fontsize=20, y=1.01)\n",
    "ax2.set(xlabel='age [years]', ylabel='frequency');"
   ]
  },
  {
   "cell_type": "markdown",
   "metadata": {},
   "source": [
    "#### Interpretation of Histogram of Age of Bike Riders"
   ]
  },
  {
   "cell_type": "markdown",
   "metadata": {},
   "source": [
    "The most frequent age group of riders is people aged 24 - 35 with a peak around 29.\n",
    "\n",
    "Past roughly 35 years of age, as people get older, they're less likely to be a member of the bay area bike share program. However, there's still several thousand members who are 55 years or older.\n",
    "\n",
    "There's a wide range of age of bike riders - from 18 to 60+.\n",
    "\n",
    "This histogram is positively skewed too. There's a long tail of bins with ever-decreasing frequency that extend to the right of our peak. "
   ]
  },
  {
   "cell_type": "code",
   "execution_count": null,
   "metadata": {},
   "outputs": [],
   "source": []
  },
  {
   "cell_type": "code",
   "execution_count": null,
   "metadata": {},
   "outputs": [],
   "source": []
  }
 ],
 "metadata": {
  "kernelspec": {
   "display_name": "Python 3",
   "language": "python",
   "name": "python3"
  },
  "language_info": {
   "codemirror_mode": {
    "name": "ipython",
    "version": 3
   },
   "file_extension": ".py",
   "mimetype": "text/x-python",
   "name": "python",
   "nbconvert_exporter": "python",
   "pygments_lexer": "ipython3",
   "version": "3.6.0"
  },
  "toc": {
   "colors": {
    "hover_highlight": "#DAA520",
    "navigate_num": "#000000",
    "navigate_text": "#333333",
    "running_highlight": "#FF0000",
    "selected_highlight": "#FFD700",
    "sidebar_border": "#EEEEEE",
    "wrapper_background": "#FFFFFF"
   },
   "moveMenuLeft": true,
   "nav_menu": {
    "height": "12px",
    "width": "252px"
   },
   "navigate_menu": true,
   "number_sections": true,
   "sideBar": true,
   "threshold": 4,
   "toc_cell": false,
   "toc_section_display": "block",
   "toc_window_display": false,
   "widenNotebook": false
  }
 },
 "nbformat": 4,
 "nbformat_minor": 2
}
