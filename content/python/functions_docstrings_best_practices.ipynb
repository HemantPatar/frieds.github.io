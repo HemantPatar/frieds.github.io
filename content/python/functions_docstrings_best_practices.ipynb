{
 "cells": [
  {
   "cell_type": "markdown",
   "metadata": {},
   "source": [
    "- title: Docstrings Best Practices in Functions\n",
    "- slug: docstrings-functions\n",
    "- summary: Docstrings in Python functions help document the logic of functions and make code easier to read for others\n",
    "- date: 2018-02-19 19:00  \n",
    "- category: Python\n",
    "- subcategory: Beginner Concepts\n",
    "- posttype: Tutorial\n",
    "- keywords: docstrings in python\n",
    "- tags: documentation, functions, dictionaries, loops, lists\n",
    "- authors: Dan Friedman"
   ]
  },
  {
   "cell_type": "markdown",
   "metadata": {},
   "source": [
    "#### Import Libraries"
   ]
  },
  {
   "cell_type": "code",
   "execution_count": 4,
   "metadata": {
    "collapsed": true,
    "jupyter": {
     "outputs_hidden": true
    }
   },
   "outputs": [],
   "source": [
    "from collections import defaultdict"
   ]
  },
  {
   "cell_type": "markdown",
   "metadata": {},
   "source": [
    "### Docstrings"
   ]
  },
  {
   "cell_type": "markdown",
   "metadata": {},
   "source": [
    "A **docstring** is a string at the beginning of the function body that explains how the function works.\n",
    "\n",
    "Every function you create ought to have a **docstring**. They're in triple-quoted strings and allow for multi-line text."
   ]
  },
  {
   "cell_type": "markdown",
   "metadata": {},
   "source": [
    "#### Why Docstrings Are So Important"
   ]
  },
  {
   "cell_type": "markdown",
   "metadata": {},
   "source": [
    "Coding on the job you'll frequently look back at previous code, refactor/improve upon previous code, read other people's code and someone will likely have questions on your code.\n",
    "\n",
    "What is one of the best ways to reduce anxiety with all the to-dos above... document your code well!\n",
    "\n",
    "Well-written docstrings are just one example that'll make your code easier to read for you and others, and make your life so much easier."
   ]
  },
  {
   "cell_type": "markdown",
   "metadata": {},
   "source": [
    "#### What Doctsrings Should Include"
   ]
  },
  {
   "cell_type": "markdown",
   "metadata": {},
   "source": [
    "Succinct info on the function's:\n",
    "\n",
    "1. Logic\n",
    "2. Arguments and their data types\n",
    "3. Return values and their data type"
   ]
  },
  {
   "cell_type": "markdown",
   "metadata": {},
   "source": [
    "### Example: Duplicates in a List"
   ]
  },
  {
   "cell_type": "markdown",
   "metadata": {},
   "source": [
    "Let's say we have a list of numbers."
   ]
  },
  {
   "cell_type": "code",
   "execution_count": 5,
   "metadata": {
    "collapsed": true,
    "jupyter": {
     "outputs_hidden": true
    }
   },
   "outputs": [],
   "source": [
    "groceries = [\"eggs\", \"carrots\", \"eggs\", \"spinach\", \"carrots\"]"
   ]
  },
  {
   "cell_type": "markdown",
   "metadata": {},
   "source": [
    "Notice how `eggs` and `carrots` are repeated twice."
   ]
  },
  {
   "cell_type": "markdown",
   "metadata": {},
   "source": [
    "#### Function to count the number of occurences for each item"
   ]
  },
  {
   "cell_type": "code",
   "execution_count": 6,
   "metadata": {
    "collapsed": true,
    "jupyter": {
     "outputs_hidden": true
    }
   },
   "outputs": [],
   "source": [
    "def count_occurences_items(list_of_items):\n",
    "    \"\"\"\n",
    "    Given a list of items, count the occurences of each item by looping over \n",
    "    the items in the list and creating a defaultdict data structure of item:count pairs.\n",
    "\n",
    "    :param list_of_item: any list of items\n",
    "    :returns: defaultdict_count_of_item_occurences: keys of item names and values being count of occurences\n",
    "    \"\"\"\n",
    "    defaultdict_count_of_item_occurences = defaultdict(int)\n",
    "    for item in list_of_items:\n",
    "        defaultdict_count_of_item_occurences[item] += 1\n",
    "    return defaultdict_count_of_item_occurences"
   ]
  },
  {
   "cell_type": "code",
   "execution_count": 7,
   "metadata": {
    "collapsed": false,
    "jupyter": {
     "outputs_hidden": false
    }
   },
   "outputs": [],
   "source": [
    "grocery_item_occurences = count_occurences_items(groceries)"
   ]
  },
  {
   "cell_type": "code",
   "execution_count": 8,
   "metadata": {
    "collapsed": false,
    "jupyter": {
     "outputs_hidden": false
    }
   },
   "outputs": [
    {
     "data": {
      "text/plain": [
       "defaultdict(int, {'carrots': 2, 'eggs': 2, 'spinach': 1})"
      ]
     },
     "execution_count": 8,
     "metadata": {},
     "output_type": "execute_result"
    }
   ],
   "source": [
    "grocery_item_occurences"
   ]
  },
  {
   "cell_type": "markdown",
   "metadata": {},
   "source": [
    "#### Function to print duplicated values and count of occurences"
   ]
  },
  {
   "cell_type": "code",
   "execution_count": 9,
   "metadata": {
    "collapsed": true,
    "jupyter": {
     "outputs_hidden": true
    }
   },
   "outputs": [],
   "source": [
    "def find_multiple_item_occurences(count_item_occurences):\n",
    "    \"\"\"\n",
    "    Filter a dictionary to keep only key:value pairs in which the value is >= 2\n",
    "    \n",
    "    :param count_item_occurences: dictionary of item:count pairs\n",
    "    :returns: duplicate_items: dictionary structure of item:count pairs for duplicate items\n",
    "    \"\"\"\n",
    "    duplicate_items = {}\n",
    "    for key, value in count_item_occurences.items():\n",
    "        if value >= 2:\n",
    "            duplicate_items[key] = value\n",
    "    return duplicate_items"
   ]
  },
  {
   "cell_type": "code",
   "execution_count": 10,
   "metadata": {
    "collapsed": false,
    "jupyter": {
     "outputs_hidden": false
    }
   },
   "outputs": [
    {
     "name": "stdout",
     "output_type": "stream",
     "text": [
      "{'eggs': 2, 'carrots': 2}\n"
     ]
    }
   ],
   "source": [
    "print(find_multiple_item_occurences(grocery_item_occurences))"
   ]
  }
 ],
 "metadata": {
  "kernelspec": {
   "display_name": "Python 3",
   "language": "python",
   "name": "python3"
  },
  "language_info": {
   "codemirror_mode": {
    "name": "ipython",
    "version": 3
   },
   "file_extension": ".py",
   "mimetype": "text/x-python",
   "name": "python",
   "nbconvert_exporter": "python",
   "pygments_lexer": "ipython3",
   "version": "3.7.5"
  },
  "toc": {
   "colors": {
    "hover_highlight": "#DAA520",
    "navigate_num": "#000000",
    "navigate_text": "#333333",
    "running_highlight": "#FF0000",
    "selected_highlight": "#FFD700",
    "sidebar_border": "#EEEEEE",
    "wrapper_background": "#FFFFFF"
   },
   "moveMenuLeft": true,
   "nav_menu": {
    "height": "189px",
    "width": "252px"
   },
   "navigate_menu": true,
   "number_sections": true,
   "sideBar": true,
   "threshold": 4,
   "toc_cell": false,
   "toc_section_display": "block",
   "toc_window_display": false,
   "widenNotebook": false
  }
 },
 "nbformat": 4,
 "nbformat_minor": 4
}
