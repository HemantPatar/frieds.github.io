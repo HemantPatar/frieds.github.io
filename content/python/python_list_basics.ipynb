{
 "cells": [
  {
   "cell_type": "markdown",
   "metadata": {},
   "source": [
    "- title: Lists - Intro to the Data Structure & Common Operations\n",
    "- slug: python-lists\n",
    "- summary: Intro to the list data structure in Python, how to construct one and how to retrieve elements from them\n",
    "- date: 2018-02-08 12:00  \n",
    "- category: Python  \n",
    "- tags: lists\n",
    "- keywords: lists in python\n",
    "- authors: Dan Friedman"
   ]
  },
  {
   "cell_type": "markdown",
   "metadata": {},
   "source": [
    "Lists are mutable sequence types to store a collection of items. Mutable is the ability to alter the items in place without re-creating a new list.\n",
    "\n",
    "Python lists can be collections of items you have on your computer such as:\n",
    "\n",
    "* browser bookmarks\n",
    "* songs in a playlist\n",
    "* history of videos watched on YouTube\n",
    "\n",
    "### Construct a List\n",
    "\n",
    "All lists are assigned a name and enclosed in square brackets.\n",
    "\n",
    "List below is assigned to the variable name `math_grades` and contains a collection of scores for math exams for a single student. \n",
    "\n",
    "There are 4 items in the list below."
   ]
  },
  {
   "cell_type": "code",
   "execution_count": 1,
   "metadata": {},
   "outputs": [],
   "source": [
    "math_grades = [88, 91, 82, 84]"
   ]
  },
  {
   "cell_type": "code",
   "execution_count": 3,
   "metadata": {},
   "outputs": [
    {
     "data": {
      "text/plain": [
       "[88, 91, 82, 84]"
      ]
     },
     "execution_count": 3,
     "metadata": {},
     "output_type": "execute_result"
    }
   ],
   "source": [
    "math_grades"
   ]
  },
  {
   "cell_type": "markdown",
   "metadata": {},
   "source": [
    "### Lists Can Hold Multiple Object Types\n",
    "\n",
    "Lists can contain multiple types of objects such as:\n",
    "\n",
    "- numeric types:   \n",
    "    - floats (example: 3.14)\n",
    "    - ints (example: 3)\n",
    "- sequence types:\n",
    "    - strings (example: \"pass\")\n",
    "    - lists (example: [1, 2, 3])\n",
    "    - tuples (example: (8, \"pass\"))\n",
    "- and more!"
   ]
  },
  {
   "cell_type": "code",
   "execution_count": 4,
   "metadata": {},
   "outputs": [],
   "source": [
    "various_grades = [82, \"pass\", [\"great\", \"ok\", \"very good\"]]"
   ]
  },
  {
   "cell_type": "code",
   "execution_count": 5,
   "metadata": {},
   "outputs": [
    {
     "data": {
      "text/plain": [
       "[82, 'pass', ['great', 'ok', 'very good']]"
      ]
     },
     "execution_count": 5,
     "metadata": {},
     "output_type": "execute_result"
    }
   ],
   "source": [
    "various_grades"
   ]
  },
  {
   "cell_type": "markdown",
   "metadata": {},
   "source": [
    "\n",
    "### Lists Are Ordered Sequences of Elements\n",
    "\n",
    "The order of items in a list matters. Let's take a look at `math_grades`."
   ]
  },
  {
   "cell_type": "code",
   "execution_count": 6,
   "metadata": {},
   "outputs": [
    {
     "data": {
      "text/plain": [
       "[88, 91, 82, 84]"
      ]
     },
     "execution_count": 6,
     "metadata": {},
     "output_type": "execute_result"
    }
   ],
   "source": [
    "math_grades"
   ]
  },
  {
   "cell_type": "markdown",
   "metadata": {},
   "source": [
    "88 is the score on the *first* exam, 91 on the *second* exam and so forth. \n",
    "\n",
    "### Index Items in a List\n",
    "\n",
    "Index a list to retrieve a *single* or *multiple* items in a list. An index number is always an integer value and each the first item in a list is index number `0`\n",
    "\n",
    "For the list `math_grades`, here's the index breakdown:\n",
    "\n",
    "| **index** | **value** |\n",
    "| --- | --- | \n",
    "| 0 | 88 |\n",
    "| 1 | 91 |\n",
    "| 2 | 82 |\n",
    "| 3 | 84 |\n",
    "\n",
    "Retrieve the item at index `0`."
   ]
  },
  {
   "cell_type": "code",
   "execution_count": 7,
   "metadata": {},
   "outputs": [
    {
     "data": {
      "text/plain": [
       "88"
      ]
     },
     "execution_count": 7,
     "metadata": {},
     "output_type": "execute_result"
    }
   ],
   "source": [
    "math_grades[0]"
   ]
  },
  {
   "cell_type": "markdown",
   "metadata": {},
   "source": [
    "Retrieve the item at index `1`."
   ]
  },
  {
   "cell_type": "code",
   "execution_count": 8,
   "metadata": {},
   "outputs": [
    {
     "data": {
      "text/plain": [
       "91"
      ]
     },
     "execution_count": 8,
     "metadata": {},
     "output_type": "execute_result"
    }
   ],
   "source": [
    "math_grades[1]"
   ]
  }
 ],
 "metadata": {
  "kernelspec": {
   "display_name": "Python 3",
   "language": "python",
   "name": "python3"
  },
  "language_info": {
   "codemirror_mode": {
    "name": "ipython",
    "version": 3
   },
   "file_extension": ".py",
   "mimetype": "text/x-python",
   "name": "python",
   "nbconvert_exporter": "python",
   "pygments_lexer": "ipython3",
   "version": "3.7.5"
  }
 },
 "nbformat": 4,
 "nbformat_minor": 4
}
