{
 "cells": [
  {
   "cell_type": "markdown",
   "metadata": {},
   "source": [
    "Title: cut() Method: Bin Values into Discrete Intervals\n",
    "Slug: bin-values-python-pandas\n",
    "Summary: Learn how to bin values in Python with pandas using the cut() method and through simple examples\n",
    "Date: 2018-11-20 14:00  \n",
    "Category: Data Analysis\n",
    "Subcategory: Data Wrangling\n",
    "PostType: Tutorial\n",
    "Keywords: bin data pandas\n",
    "Tags: categorical data, python, pandas, bin\n",
    "Authors: Dan Friedman"
   ]
  },
  {
   "cell_type": "markdown",
   "metadata": {},
   "source": [
    "### Import Modules"
   ]
  },
  {
   "cell_type": "code",
   "execution_count": 2,
   "metadata": {},
   "outputs": [],
   "source": [
    "import pandas as pd\n",
    "import numpy as np"
   ]
  },
  {
   "cell_type": "markdown",
   "metadata": {},
   "source": [
    "### Why Bin Data"
   ]
  },
  {
   "cell_type": "markdown",
   "metadata": {},
   "source": [
    "Often times you have numerical data on very large scales. Sometimes, it can be easier to bin the values into groups. This is helpful to more easily perform descriptive statistics by groups as a generalization of patterns in the data.\n",
    "\n",
    "We'll cover an example below of binning age values into groups. "
   ]
  },
  {
   "cell_type": "markdown",
   "metadata": {},
   "source": [
    "### Binning in pandas with Age Example"
   ]
  },
  {
   "cell_type": "markdown",
   "metadata": {},
   "source": [
    "First, let's create a simple pandas DataFrame assigned to the variable `df_ages` with just one colum for `age`. This column will contain 40 random age values between 20 and 100 (inclusive on each end)."
   ]
  },
  {
   "cell_type": "code",
   "execution_count": 3,
   "metadata": {},
   "outputs": [],
   "source": [
    "df_ages = pd.DataFrame({'age': np.random.randint(20, 100, 40)})"
   ]
  },
  {
   "cell_type": "markdown",
   "metadata": {},
   "source": [
    "Let's preview the first 5 rows of `df_ages`."
   ]
  },
  {
   "cell_type": "code",
   "execution_count": 4,
   "metadata": {},
   "outputs": [
    {
     "data": {
      "text/html": [
       "<div>\n",
       "<table border=\"1\" class=\"dataframe\">\n",
       "  <thead>\n",
       "    <tr style=\"text-align: right;\">\n",
       "      <th></th>\n",
       "      <th>age</th>\n",
       "    </tr>\n",
       "  </thead>\n",
       "  <tbody>\n",
       "    <tr>\n",
       "      <th>0</th>\n",
       "      <td>37</td>\n",
       "    </tr>\n",
       "    <tr>\n",
       "      <th>1</th>\n",
       "      <td>37</td>\n",
       "    </tr>\n",
       "    <tr>\n",
       "      <th>2</th>\n",
       "      <td>84</td>\n",
       "    </tr>\n",
       "    <tr>\n",
       "      <th>3</th>\n",
       "      <td>99</td>\n",
       "    </tr>\n",
       "    <tr>\n",
       "      <th>4</th>\n",
       "      <td>93</td>\n",
       "    </tr>\n",
       "  </tbody>\n",
       "</table>\n",
       "</div>"
      ],
      "text/plain": [
       "   age\n",
       "0   37\n",
       "1   37\n",
       "2   84\n",
       "3   99\n",
       "4   93"
      ]
     },
     "execution_count": 4,
     "metadata": {},
     "output_type": "execute_result"
    }
   ],
   "source": [
    "df_ages.head()"
   ]
  },
  {
   "cell_type": "markdown",
   "metadata": {},
   "source": [
    "Ages are often denoted by decade - saying people are in their 20s or 30s. To get to that denotion, it helps to understand that someone in their 20s is between the age of 20-29. Let's create a new column called `age_range` that provides that nearly 10-year window of ages.\n",
    "\n",
    "First, let's create a list assigned to the variable `age_ranges` that creates list items in a list comprehension. Each list item created is a value of `age - age+9` for ages in the range of 20 to 100 with a step value of 10. I also printed the output of `age_ranges`.\n",
    "\n",
    "If the syntax below still seems daunting, you can learn more about string formatting from <a href='https://dfrieds.com/python/string-formatting'>this tutorial</a> on my website and the `range()` function via <a href='https://realpython.com/python-range/'>this article</a> on Real Python."
   ]
  },
  {
   "cell_type": "code",
   "execution_count": 5,
   "metadata": {},
   "outputs": [
    {
     "data": {
      "text/plain": [
       "['20 - 29',\n",
       " '30 - 39',\n",
       " '40 - 49',\n",
       " '50 - 59',\n",
       " '60 - 69',\n",
       " '70 - 79',\n",
       " '80 - 89',\n",
       " '90 - 99']"
      ]
     },
     "execution_count": 5,
     "metadata": {},
     "output_type": "execute_result"
    }
   ],
   "source": [
    "age_ranges = [\"{0} - {1}\".format(age, age + 9) for age in range(20, 100, 10)]\n",
    "age_ranges"
   ]
  },
  {
   "cell_type": "markdown",
   "metadata": {},
   "source": [
    "Create a variable `count_unique_age_ranges` that's the count of items in the `age_ranges` list above."
   ]
  },
  {
   "cell_type": "code",
   "execution_count": 6,
   "metadata": {},
   "outputs": [
    {
     "data": {
      "text/plain": [
       "8"
      ]
     },
     "execution_count": 6,
     "metadata": {},
     "output_type": "execute_result"
    }
   ],
   "source": [
    "count_unique_age_ranges = len(age_ranges)\n",
    "count_unique_age_ranges"
   ]
  },
  {
   "cell_type": "markdown",
   "metadata": {},
   "source": [
    "In order to bin our ages, we want to use the pandas `cut()` method. \n",
    "\n",
    "For the argument `x`, we pass in the values in the `age` column from our `df_ages` DataFrame.\n",
    "\n",
    "For the argument `bins`, we pass in the number of bins we want to create designated by the variable `count_unique_age_ranges`.\n",
    "\n",
    "For the argument `labels`, we specify the labels for our returned binned column which is the list we created above assigned to the variable `age_ranges`.\n",
    "\n",
    "With the returned output of the `cut()` method, we'll create a new column in `df_ages` called `age_range`.\n",
    "\n",
    "Since we want 8 bins originally from the `age` column, this `cut()` method knows to make bins with ages between 20-29, 30-39 and so forth. It just so happens that we designate the values in `age_range` to be a similar looking string value. \n",
    "\n",
    "The order of values we specify in the labels `age_ranges` matter too! The first item, `20-29`, corresponds to the first bin created that will contain age values in the range of 20-29, and so forth."
   ]
  },
  {
   "cell_type": "code",
   "execution_count": 7,
   "metadata": {},
   "outputs": [],
   "source": [
    "df_ages['age_range'] = pd.cut(x=df_ages['age'], bins=count_unique_age_ranges, labels=age_ranges)"
   ]
  },
  {
   "cell_type": "markdown",
   "metadata": {},
   "source": [
    "Let's preview the first few rows of `df_ages`."
   ]
  },
  {
   "cell_type": "code",
   "execution_count": 8,
   "metadata": {},
   "outputs": [
    {
     "data": {
      "text/html": [
       "<div>\n",
       "<table border=\"1\" class=\"dataframe\">\n",
       "  <thead>\n",
       "    <tr style=\"text-align: right;\">\n",
       "      <th></th>\n",
       "      <th>age</th>\n",
       "      <th>age_range</th>\n",
       "    </tr>\n",
       "  </thead>\n",
       "  <tbody>\n",
       "    <tr>\n",
       "      <th>0</th>\n",
       "      <td>37</td>\n",
       "      <td>30 - 39</td>\n",
       "    </tr>\n",
       "    <tr>\n",
       "      <th>1</th>\n",
       "      <td>37</td>\n",
       "      <td>30 - 39</td>\n",
       "    </tr>\n",
       "    <tr>\n",
       "      <th>2</th>\n",
       "      <td>84</td>\n",
       "      <td>80 - 89</td>\n",
       "    </tr>\n",
       "    <tr>\n",
       "      <th>3</th>\n",
       "      <td>99</td>\n",
       "      <td>90 - 99</td>\n",
       "    </tr>\n",
       "    <tr>\n",
       "      <th>4</th>\n",
       "      <td>93</td>\n",
       "      <td>90 - 99</td>\n",
       "    </tr>\n",
       "  </tbody>\n",
       "</table>\n",
       "</div>"
      ],
      "text/plain": [
       "   age age_range\n",
       "0   37   30 - 39\n",
       "1   37   30 - 39\n",
       "2   84   80 - 89\n",
       "3   99   90 - 99\n",
       "4   93   90 - 99"
      ]
     },
     "execution_count": 8,
     "metadata": {},
     "output_type": "execute_result"
    }
   ],
   "source": [
    "df_ages.head()"
   ]
  },
  {
   "cell_type": "markdown",
   "metadata": {},
   "source": [
    "We can apply the `info()` method to our DataFrame. Notice next to our new column called `age_range` that the data type is a `category`."
   ]
  },
  {
   "cell_type": "code",
   "execution_count": 9,
   "metadata": {},
   "outputs": [
    {
     "name": "stdout",
     "output_type": "stream",
     "text": [
      "<class 'pandas.core.frame.DataFrame'>\n",
      "RangeIndex: 40 entries, 0 to 39\n",
      "Data columns (total 2 columns):\n",
      "age          40 non-null int64\n",
      "age_range    40 non-null category\n",
      "dtypes: category(1), int64(1)\n",
      "memory usage: 504.0 bytes\n"
     ]
    }
   ],
   "source": [
    "df_ages.info()"
   ]
  },
  {
   "cell_type": "markdown",
   "metadata": {},
   "source": [
    "Let's create another new column to define someone's age denoted by decade. So, if you're 28, you're in your 20s and if you're 54, you're in your 50s. We'll later call this column `age_by_decade`.\n",
    "\n",
    "First, let's create a list assigned to the variable `age_by_decade` that creates list items by the decade names. We'll simply take each age from 20 to 100 with a step of 10 and simply append an *s* to the end of each `age` value. "
   ]
  },
  {
   "cell_type": "code",
   "execution_count": 10,
   "metadata": {},
   "outputs": [
    {
     "data": {
      "text/plain": [
       "['20s', '30s', '40s', '50s', '60s', '70s', '80s', '90s']"
      ]
     },
     "execution_count": 10,
     "metadata": {},
     "output_type": "execute_result"
    }
   ],
   "source": [
    "age_by_decade = [\"{0}s\".format(age) for age in range(20, 100, 10)]\n",
    "age_by_decade"
   ]
  },
  {
   "cell_type": "markdown",
   "metadata": {},
   "source": [
    "Create a variable `count_unique_age_decades` that's the count of items in the `age_by_decade` list above."
   ]
  },
  {
   "cell_type": "code",
   "execution_count": 11,
   "metadata": {},
   "outputs": [
    {
     "data": {
      "text/plain": [
       "8"
      ]
     },
     "execution_count": 11,
     "metadata": {},
     "output_type": "execute_result"
    }
   ],
   "source": [
    "count_unique_age_decades = len(age_by_decade)\n",
    "count_unique_age_decades"
   ]
  },
  {
   "cell_type": "markdown",
   "metadata": {},
   "source": [
    "Let's create a new column called `age_by_decade` that's made using the pandas `cut()` method. \n",
    "\n",
    "For the argument `x`, we pass in the values in the `age` column from our `df_ages` DataFrame.\n",
    "\n",
    "For the argument `bins`, we pass in the number of bins we want to create designated by the variable `count_unique_age_decades`.\n",
    "\n",
    "For the argument `labels`, we specify the labels for our returned binned column which is the list we created above assigned to the variable `age_by_decade`.\n",
    "\n",
    "With the returned output of the `cut()` method, we'll create a new column in `df_ages` called `age_by_decade`."
   ]
  },
  {
   "cell_type": "code",
   "execution_count": 14,
   "metadata": {},
   "outputs": [],
   "source": [
    "df_ages['age_by_decade'] = pd.cut(x=df_ages['age'], bins=count_unique_age_decades, labels=age_by_decade)"
   ]
  },
  {
   "cell_type": "markdown",
   "metadata": {},
   "source": [
    "Preview the first 5 rows of `df_ages`."
   ]
  },
  {
   "cell_type": "code",
   "execution_count": 15,
   "metadata": {},
   "outputs": [
    {
     "data": {
      "text/html": [
       "<div>\n",
       "<table border=\"1\" class=\"dataframe\">\n",
       "  <thead>\n",
       "    <tr style=\"text-align: right;\">\n",
       "      <th></th>\n",
       "      <th>age</th>\n",
       "      <th>age_range</th>\n",
       "      <th>age_by_decade</th>\n",
       "    </tr>\n",
       "  </thead>\n",
       "  <tbody>\n",
       "    <tr>\n",
       "      <th>0</th>\n",
       "      <td>37</td>\n",
       "      <td>30 - 39</td>\n",
       "      <td>30s</td>\n",
       "    </tr>\n",
       "    <tr>\n",
       "      <th>1</th>\n",
       "      <td>37</td>\n",
       "      <td>30 - 39</td>\n",
       "      <td>30s</td>\n",
       "    </tr>\n",
       "    <tr>\n",
       "      <th>2</th>\n",
       "      <td>84</td>\n",
       "      <td>80 - 89</td>\n",
       "      <td>80s</td>\n",
       "    </tr>\n",
       "    <tr>\n",
       "      <th>3</th>\n",
       "      <td>99</td>\n",
       "      <td>90 - 99</td>\n",
       "      <td>90s</td>\n",
       "    </tr>\n",
       "    <tr>\n",
       "      <th>4</th>\n",
       "      <td>93</td>\n",
       "      <td>90 - 99</td>\n",
       "      <td>90s</td>\n",
       "    </tr>\n",
       "  </tbody>\n",
       "</table>\n",
       "</div>"
      ],
      "text/plain": [
       "   age age_range age_by_decade\n",
       "0   37   30 - 39           30s\n",
       "1   37   30 - 39           30s\n",
       "2   84   80 - 89           80s\n",
       "3   99   90 - 99           90s\n",
       "4   93   90 - 99           90s"
      ]
     },
     "execution_count": 15,
     "metadata": {},
     "output_type": "execute_result"
    }
   ],
   "source": [
    "df_ages.head()"
   ]
  },
  {
   "cell_type": "markdown",
   "metadata": {},
   "source": [
    "You can learn more about the intricate details of the Pandas `cut()` method on the <a href='https://pandas.pydata.org/pandas-docs/version/0.23.4/generated/pandas.cut.html'>official documentation page</a>."
   ]
  },
  {
   "cell_type": "code",
   "execution_count": null,
   "metadata": {},
   "outputs": [],
   "source": []
  }
 ],
 "metadata": {
  "kernelspec": {
   "display_name": "Python 3",
   "language": "python",
   "name": "python3"
  },
  "language_info": {
   "codemirror_mode": {
    "name": "ipython",
    "version": 3
   },
   "file_extension": ".py",
   "mimetype": "text/x-python",
   "name": "python",
   "nbconvert_exporter": "python",
   "pygments_lexer": "ipython3",
   "version": "3.6.7"
  }
 },
 "nbformat": 4,
 "nbformat_minor": 2
}
