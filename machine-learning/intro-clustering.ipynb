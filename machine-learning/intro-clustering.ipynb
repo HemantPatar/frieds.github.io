{
 "cells": [
  {
   "cell_type": "markdown",
   "metadata": {},
   "source": [
    "Title: Intro to Clustering\n",
    "Slug: intro-clustering\n",
    "Summary: An introduction to what clustering is, a comparison to traditional segmentation and why clustering works better for large data\n",
    "Date: 2018-06-09 11:00  \n",
    "Category: Machine Learning\n",
    "Subcategory: Clustering\n",
    "PostType: Tutorial \n",
    "Tags: lists, plots, python, math\n",
    "Keywords: intro clustering machine learning\n",
    "Authors: Dan Friedman"
   ]
  },
  {
   "cell_type": "markdown",
   "metadata": {},
   "source": [
    "Clustering (aka cluster analysis) is an unsupervised machine learning method that segments similar data points into groups. These groups are called **clusters**.\n",
    "\n",
    "It's considered unsupervised because there's no ground truth value to predict. Instead, we're trying to create structure/meaning from the data.\n",
    "\n",
    "I regard **segmentation** as a data analysis technique for creating groups from a dataset while I regard **clustering** as a data science technique for more *advanced* creation of groups called clusters.\n",
    "\n",
    "Let's first walk through a simple segmentation example with generating data, analyzing the data and segmenting groups with a visualization. No knowledge of coding needed to follow along. You can can read the text and visualizations to understand the value of clustering."
   ]
  },
  {
   "cell_type": "markdown",
   "metadata": {},
   "source": [
    "### Manual Segmentation"
   ]
  },
  {
   "cell_type": "markdown",
   "metadata": {},
   "source": [
    "Let's say you have customers use your app, and you'd like to perform more targeted marketing towards them. Historically, you've created videos to highlight a new feature and showed the same video to *all* customers. However, the marketing message in those videos hasn't been relevant for *all* customers.\n",
    "\n",
    "With a new feature launch, you'd like to develop two short marketing videos - each of which can be geared towards a unique group of customers.\n",
    "\n",
    "But how can you easily find two different group based on their activity within the app?\n",
    "\n",
    "One way to answer this question is through segmentation; another method I'll illustrate later is clustering. \n",
    "\n",
    "To gather more information on our customers, you poll them on their age and annual income in U.S. dollars.\n",
    "\n",
    "Below is a sample of data in a format we'll use:\n",
    "\n",
    "Customer Name | Age | Income Per Year ($)\n",
    "--- | --- | ---\n",
    "Joe Smith| 18 | 39000\n",
    "Michelle Brown | 24 |75000\n",
    "Ben Stein | 55 | 120000\n",
    "\n",
    "In the table above, every row is considered an **observation**. Every column is considered a **feature**. We'll use this terminology going forward."
   ]
  },
  {
   "cell_type": "markdown",
   "metadata": {},
   "source": [
    "#### Import Modules"
   ]
  },
  {
   "cell_type": "code",
   "execution_count": 14,
   "metadata": {
    "collapsed": true
   },
   "outputs": [],
   "source": [
    "from random import randint\n",
    "import matplotlib.pyplot as pyplot\n",
    "%matplotlib inline"
   ]
  },
  {
   "cell_type": "markdown",
   "metadata": {},
   "source": [
    "#### Generate Survey Data"
   ]
  },
  {
   "cell_type": "markdown",
   "metadata": {},
   "source": [
    "I'll use Python to generate the survey data.\n",
    "\n",
    "We'll create a large group of relatively young customers and another smaller group of relatively older customers who often earn more than the younger ones."
   ]
  },
  {
   "cell_type": "code",
   "execution_count": 15,
   "metadata": {
    "collapsed": true
   },
   "outputs": [],
   "source": [
    "large_number = 50\n",
    "small_number = 25\n",
    "\n",
    "ages_younger = [randint(18, 28) for age in range(large_number)]\n",
    "ages_older = [randint(25, 66) for age in range(small_number)]\n",
    "\n",
    "lower_incomes = [randint(5000, 76000) for income in range(large_number)]\n",
    "higher_incomes = [randint(43000, 160000) for income in range(small_number)]\n",
    "\n",
    "ages = ages_younger + ages_older\n",
    "incomes = lower_incomes + higher_incomes"
   ]
  },
  {
   "cell_type": "markdown",
   "metadata": {},
   "source": [
    "#### Visualize Survey Data"
   ]
  },
  {
   "cell_type": "markdown",
   "metadata": {},
   "source": [
    "In the visualization below, we can see some closely-knit groups of observations (our customers). We have lots of observations who are in the age range of 18 to 28 and earn on average roughly 50,000 U.S. dollars per year. Another more spread out group could be observations over the age of 30 who earn on average roughly 100,000 U.S. dollars per year. "
   ]
  },
  {
   "cell_type": "code",
   "execution_count": 16,
   "metadata": {
    "collapsed": false
   },
   "outputs": [
    {
     "data": {
      "image/png": "[encoded data removed]",
      "text/plain": [
       "<matplotlib.figure.Figure at 0x11e2b7eb8>"
      ]
     },
     "metadata": {},
     "output_type": "display_data"
    }
   ],
   "source": [
    "pyplot.scatter(ages, incomes)\n",
    "pyplot.xlabel(\"age\")\n",
    "pyplot.ylabel(\"income (U.S. dollars)\")\n",
    "pyplot.title(\"Survey Data of Customers\");"
   ]
  },
  {
   "cell_type": "markdown",
   "metadata": {},
   "source": [
    "#### Create Segments in Code"
   ]
  },
  {
   "cell_type": "markdown",
   "metadata": {},
   "source": [
    "By manual observation, we could segment these observations into two somewhat distinct groups. Two groups allow us to show each group a unique marketing video.\n",
    "\n",
    "In this example, we want to deliver a marketing message geared towards their income level; we can segment our observations into group by those who earn more than 65,000 U.S. dollars and those who earn less than or equal to that amount.\n",
    "\n",
    "In Python code below, I'll separate our observations into two groups so we can color code them in a plot."
   ]
  },
  {
   "cell_type": "code",
   "execution_count": 17,
   "metadata": {
    "collapsed": true
   },
   "outputs": [],
   "source": [
    "below_sixty_five_thousand_earners = []\n",
    "above_sixty_five_thousand_earners = []\n",
    "age_index = 0\n",
    "income_index = 1"
   ]
  },
  {
   "cell_type": "code",
   "execution_count": 18,
   "metadata": {
    "collapsed": true
   },
   "outputs": [],
   "source": [
    "for customer_survey_data in zip(ages, incomes):\n",
    "    if customer_survey_data[income_index] > 65000:\n",
    "        above_sixty_five_thousand_earners.append(customer_survey_data)\n",
    "    else:\n",
    "        below_sixty_five_thousand_earners.append(customer_survey_data)"
   ]
  },
  {
   "cell_type": "markdown",
   "metadata": {},
   "source": [
    "The code below makes unique lists of x-values and y-values of each group to plot from each of those two lists so we can color coordinate the groups."
   ]
  },
  {
   "cell_type": "code",
   "execution_count": 19,
   "metadata": {
    "collapsed": true
   },
   "outputs": [],
   "source": [
    "below_sixty_five_thousand_earners_ages = [customer[age_index] for customer in below_sixty_five_thousand_earners]\n",
    "below_sixty_five_thousand_earners_incomes = [customer[income_index] for customer in below_sixty_five_thousand_earners]"
   ]
  },
  {
   "cell_type": "code",
   "execution_count": 20,
   "metadata": {
    "collapsed": true
   },
   "outputs": [],
   "source": [
    "above_sixty_five_thousand_earners_ages = [customer[age_index] for customer in above_sixty_five_thousand_earners]\n",
    "above_sixty_five_thousand_earners_incomes = [customer[income_index] for customer in above_sixty_five_thousand_earners]"
   ]
  },
  {
   "cell_type": "markdown",
   "metadata": {},
   "source": [
    "In the plot below, we can see the lower earners as *green* in color and the higher earners as *orange* in color."
   ]
  },
  {
   "cell_type": "code",
   "execution_count": 21,
   "metadata": {
    "collapsed": false
   },
   "outputs": [
    {
     "data": {
      "image/png": "[encoded data removed]",
      "text/plain": [
       "<matplotlib.figure.Figure at 0x11e9e2b00>"
      ]
     },
     "metadata": {},
     "output_type": "display_data"
    }
   ],
   "source": [
    "pyplot.scatter(below_sixty_five_thousand_earners_ages, below_sixty_five_thousand_earners_incomes, color='green')\n",
    "pyplot.scatter(above_sixty_five_thousand_earners_ages, above_sixty_five_thousand_earners_incomes, color='orange')\n",
    "pyplot.xlabel(\"age\")\n",
    "pyplot.ylabel(\"income\")\n",
    "pyplot.title(\"Groups of Customers Through Segmentation\");"
   ]
  },
  {
   "cell_type": "markdown",
   "metadata": {},
   "source": [
    "While this method of segmentation *works*, it's imperfect. \n",
    "\n",
    "Notice how there are several observations in the bottom-left group that are orange and right next to green observations; you'd think they should be in the same group yet with our threshold, they're in separate groups. \n",
    "\n",
    "A threshold of 65000 U.S. dollars is rather arbitrary and did a poor job of grouping several nearby observations."
   ]
  },
  {
   "cell_type": "markdown",
   "metadata": {},
   "source": [
    "### What's the Value of Clustering Algorithms?"
   ]
  },
  {
   "cell_type": "markdown",
   "metadata": {},
   "source": [
    "In the example above, it was fairly easy to create two *fairly* distinct groups based on their income level. \n",
    "\n",
    "However, what if we collected *more data* in our survey or used more data based on customers' behavior within the app? We could easily gather 4 or more features on customers.\n",
    "\n",
    "- age\n",
    "- income per year (U.S. dollars)\n",
    "- days as a customer on our app\n",
    "- average minutes spent on our app per week\n",
    "\n",
    "You can now picture a sample of our data looking like:\n",
    "\n",
    "Customer Name | Age | Income Per Year (U.S. dollars) | days on app | avg minutes activity per week\n",
    "--- | --- | --- | --- | ---\n",
    "Joe Smith| 18 | 39000 | 33 | 5.2\n",
    "Michelle Brown | 24 |75000 | 210 | 3.0\n",
    "Mark Jones | 55 | 120000 | 59 | 7.5\n",
    "\n",
    "Also, what if our app had *tens of thousands* of customers or even *millions*? This would be considered a large number of observations.\n",
    "\n",
    "With a larger number of features and observations, it'd be nearly impossible to segment the observations by arbitrary threshold to create distinct segments. Once we've collected additional features on each customer, we can no longer visualize the data on a 2-d plane as we did above too.\n",
    "\n",
    "Here are some benefits of programmatic clustering in which you can quickly and easily:\n",
    "\n",
    "- work with large numbers of observations and features\n",
    "- derive clusters with just a few lines of code\n",
    "- prototype results of 2, 3, 4 or any number of clusters of our observations\n",
    "- implement results in a web/mobile application with little manual oversight"
   ]
  },
  {
   "cell_type": "markdown",
   "metadata": {},
   "source": [
    "#### When is Clustering Used in Industry?"
   ]
  },
  {
   "cell_type": "markdown",
   "metadata": {},
   "source": [
    "Examples:\n",
    "\n",
    "- segment groups of customers based on their activity with an app to deliver unique marketing messages\n",
    "- find similar text documents (could also be tweets, posts, etc) by their words/phrases\n",
    "- data compression to reduce the size of data files"
   ]
  },
  {
   "cell_type": "markdown",
   "metadata": {},
   "source": [
    "#### Cluster Algorithms"
   ]
  },
  {
   "cell_type": "markdown",
   "metadata": {},
   "source": [
    "In various programming languages, there are a number of open-source libraries to implement clustering algorithms. Popular ones include K-Means and DBSCAN. \n",
    "\n",
    "Different algorithms will often yield different observations per cluster. Therefore, it's best to understand your data well and study up on the types of algorithms available so you can get your desired results."
   ]
  },
  {
   "cell_type": "markdown",
   "metadata": {},
   "source": [
    "#### Code to Implement the K-Means Clustering Algorithm"
   ]
  },
  {
   "cell_type": "markdown",
   "metadata": {},
   "source": [
    "In this post, I won't dive deep into the K-Means algorithm and explanations of the code below. I'll save that for another post.\n",
    "\n",
    "Let's focus on the last visualization and intrepret the results of this programmatic way to create two clusters."
   ]
  },
  {
   "cell_type": "code",
   "execution_count": 22,
   "metadata": {
    "collapsed": true
   },
   "outputs": [],
   "source": [
    "from sklearn.preprocessing import StandardScaler\n",
    "from sklearn.cluster import KMeans"
   ]
  },
  {
   "cell_type": "code",
   "execution_count": 23,
   "metadata": {
    "collapsed": true
   },
   "outputs": [],
   "source": [
    "all_observations = list(zip(ages, incomes))\n",
    "scaler = StandardScaler()\n",
    "observations_standardized = scaler.fit_transform(all_observations)"
   ]
  },
  {
   "cell_type": "code",
   "execution_count": 24,
   "metadata": {
    "collapsed": false
   },
   "outputs": [
    {
     "data": {
      "text/plain": [
       "KMeans(algorithm='auto', copy_x=True, init='k-means++', max_iter=300,\n",
       "    n_clusters=2, n_init=10, n_jobs=1, precompute_distances='auto',\n",
       "    random_state=None, tol=0.0001, verbose=0)"
      ]
     },
     "execution_count": 24,
     "metadata": {},
     "output_type": "execute_result"
    }
   ],
   "source": [
    "kmeans_object = KMeans(n_clusters=2)\n",
    "kmeans_object.fit(observations_standardized)"
   ]
  },
  {
   "cell_type": "code",
   "execution_count": 25,
   "metadata": {
    "collapsed": true
   },
   "outputs": [],
   "source": [
    "kmeans_predictions = kmeans_object.labels_\n",
    "kmeans_cluster_centers = kmeans_object.cluster_centers_"
   ]
  },
  {
   "cell_type": "markdown",
   "metadata": {},
   "source": [
    "In the visualization below, purple dots are one cluster and yellow dots represent another cluster.\n",
    "\n",
    "The semi-transparent large circles are the centers/centroids of each cluster.\n",
    "\n",
    "Clustering better identifies nearby observations in the same cluster; we don't see two observations that have practically the same features but are in different clusters like we did with our manual segmentation above.\n",
    "\n",
    "Also, because of this centroid-based clustering, we can detail the features of the centroid to explain to our stakeholders the general features of our clusters."
   ]
  },
  {
   "cell_type": "code",
   "execution_count": 26,
   "metadata": {
    "collapsed": false
   },
   "outputs": [
    {
     "data": {
      "image/png": "[encoded data removed]",
      "text/plain": [
       "<matplotlib.figure.Figure at 0x11e9ef978>"
      ]
     },
     "metadata": {},
     "output_type": "display_data"
    }
   ],
   "source": [
    "pyplot.scatter(observations_standardized[:, 0], observations_standardized[:, 1], c=kmeans_predictions)\n",
    "pyplot.scatter(kmeans_cluster_centers[:, 0], kmeans_cluster_centers[:, 1], c=[0,1], s=580, alpha=0.5)\n",
    "pyplot.title(\"Clusters of Customers Using K-Means\");"
   ]
  }
 ],
 "metadata": {
  "kernelspec": {
   "display_name": "Python 3",
   "language": "python",
   "name": "python3"
  },
  "language_info": {
   "codemirror_mode": {
    "name": "ipython",
    "version": 3
   },
   "file_extension": ".py",
   "mimetype": "text/x-python",
   "name": "python",
   "nbconvert_exporter": "python",
   "pygments_lexer": "ipython3",
   "version": "3.6.0"
  },
  "toc": {
   "colors": {
    "hover_highlight": "#DAA520",
    "navigate_num": "#000000",
    "navigate_text": "#333333",
    "running_highlight": "#FF0000",
    "selected_highlight": "#FFD700",
    "sidebar_border": "#EEEEEE",
    "wrapper_background": "#FFFFFF"
   },
   "moveMenuLeft": true,
   "nav_menu": {
    "height": "192px",
    "width": "252px"
   },
   "navigate_menu": true,
   "number_sections": true,
   "sideBar": true,
   "threshold": 4,
   "toc_cell": false,
   "toc_section_display": "block",
   "toc_window_display": false,
   "widenNotebook": false
  }
 },
 "nbformat": 4,
 "nbformat_minor": 2
}
