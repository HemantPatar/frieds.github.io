{
 "cells": [
  {
   "cell_type": "markdown",
   "metadata": {},
   "source": [
    "Title: Intro Logger Module\n",
    "Slug: logger-module\n",
    "Summary: Introduction to the logger module to track the progress of your code and debug more easily\n",
    "Date: 2018-09-23 15:00  \n",
    "Category: Python \n",
    "Subcategory: Beginner Concepts\n",
    "PostType: Tutorial\n",
    "Tags: functions, loops, lists, print function\n",
    "Keywords: logger module python\n",
    "Authors: Dan Friedman"
   ]
  },
  {
   "cell_type": "markdown",
   "metadata": {},
   "source": [
    "Downsides of using the `print()` function in a Python program:\n",
    "- Cannot easily see *when* (date and time) the code was executed.\n",
    "- Cannot easily identify the *line number* the print function was executed.\n",
    "- Cannot easily identify the *Python script* in which the print function was executed. (Multiple Python scripts can be utilized in a Python program.)\n",
    "- Cannot easily identify the Python *function* in which this statement was executed\n",
    "- Cannot easily toggle the execution of print statements. Let's say you had a 200 line Python script with 30 print statements, another person examining your code may just want to print a select few statements to debug your coe - perhaps just 5 of your 30 total statements. "
   ]
  },
  {
   "cell_type": "markdown",
   "metadata": {},
   "source": [
    "### Example: Merge Two Pre-Sorted Lists to Create One Sorted List"
   ]
  },
  {
   "cell_type": "markdown",
   "metadata": {},
   "source": [
    "To solve this problem, we will not use the built-in Python `sorted()` function."
   ]
  },
  {
   "cell_type": "code",
   "execution_count": 1,
   "metadata": {},
   "outputs": [],
   "source": [
    "# merge two sorted lists without using a built-in Python function"
   ]
  },
  {
   "cell_type": "code",
   "execution_count": 2,
   "metadata": {},
   "outputs": [
    {
     "name": "stdout",
     "output_type": "stream",
     "text": [
      "The answer is 4\n"
     ]
    }
   ],
   "source": [
    "print(\"The answer is\", 2*2)"
   ]
  }
 ],
 "metadata": {
  "kernelspec": {
   "display_name": "Python 3",
   "language": "python",
   "name": "python3"
  },
  "language_info": {
   "codemirror_mode": {
    "name": "ipython",
    "version": 3
   },
   "file_extension": ".py",
   "mimetype": "text/x-python",
   "name": "python",
   "nbconvert_exporter": "python",
   "pygments_lexer": "ipython3",
   "version": "3.6.0"
  }
 },
 "nbformat": 4,
 "nbformat_minor": 2
}
