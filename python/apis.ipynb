{
 "cells": [
  {
   "cell_type": "markdown",
   "metadata": {},
   "source": [
    "Title: APIs\n",
    "Slug: intro-to-apis\n",
    "Summary: Perform simple math operations in Python using addition, subtraction and multiplication; store logic in functions and results as variables\n",
    "Date: 2018-02-08 20:00  \n",
    "Category: Python\n",
    "Subcategory: Intermediate Concepts\n",
    "Keywords: python apis\n",
    "Tags: api\n",
    "Authors: Dan Friedman"
   ]
  },
  {
   "cell_type": "markdown",
   "metadata": {},
   "source": [
    "### The Internet"
   ]
  },
  {
   "cell_type": "markdown",
   "metadata": {},
   "source": [
    "In browsing websites, you've encountered HTTP before. It stands for **HyperText Transfer Protocol**. \n",
    "\n",
    "For visiting my website, you may have entered http://dfrieds.com into your browser. Your browser, also known as the **client**, made a request over HTTP to get the contents of my website. Once the reuqest is complete, the browser can render my site's code and you'll see the homepage of my website!\n",
    "\n",
    "The contents of my web page live on another computer on the Internet called a **server**. I use the hosting service through GitHub Pages and so they store my site's code on their servers.\n",
    "\n",
    "I view the Internet as a large network of connected servers. Every page on the Internet is stored on a server."
   ]
  },
  {
   "cell_type": "markdown",
   "metadata": {},
   "source": [
    "### APIs"
   ]
  },
  {
   "cell_type": "markdown",
   "metadata": {},
   "source": [
    "An **API** is an Application Programming Interface. An API is part of the server that receives requests and sends a response.\n",
    "\n",
    "APIs are practical for retrieving data from sites. Popular APIs include:\n",
    "\n",
    "- Twilio to send and receive txt messages. In the past, Uber used Twilio's API so they could send you a txt message to alert you that your driver was nearby.\n",
    "- Weather Underground to retrieve weather data. If you use a mobile app to view the weather today, that app is likely using an API from Weather Underground or a similar company to retrive Weather Underground's proprietary weather data they collect.\n",
    "\n",
    "Typically, when a company offers an API to customers, such as Twilio or Weather Underground, it just means they designated a number of URLs that *just* return data. So the responses often don't contain the styles in HTML and CSS you'd see on a typical webpage. "
   ]
  },
  {
   "cell_type": "markdown",
   "metadata": {},
   "source": [
    "### Getting Started with the Hacker News API"
   ]
  },
  {
   "cell_type": "markdown",
   "metadata": {},
   "source": [
    "In this lesson, we'll use Python to request data on Hacker News posts. \n",
    "\n",
    "[Hacker News](https://news.ycombinator.com) is a social news website in which anyone can upload a link to a story, pose a question or comment on any of these items. It's similar to Reddit. However, Hacker News is often more geared towards technology and entrepreneurship."
   ]
  },
  {
   "cell_type": "markdown",
   "metadata": {},
   "source": [
    "#### Import module"
   ]
  },
  {
   "cell_type": "code",
   "execution_count": 1,
   "metadata": {},
   "outputs": [],
   "source": [
    "from requests import get"
   ]
  },
  {
   "cell_type": "markdown",
   "metadata": {},
   "source": [
    "#### API documentation"
   ]
  },
  {
   "cell_type": "markdown",
   "metadata": {},
   "source": [
    "The API documentation on [GitHub](https://github.com/HackerNews/API) details how to retrieve and intrepret data from Hacker News.\n",
    "\n",
    "Hacker News regards each text blob posted on its site, whether it be a story, comment, job, or poll to be called an *item*. Each item is identified by a unique ID, which are integers.\n",
    "\n",
    "The URLs start with `https://hacker-news.firebaseio.com/v0/`."
   ]
  },
  {
   "cell_type": "markdown",
   "metadata": {},
   "source": [
    "#### Make a Simple Request"
   ]
  },
  {
   "cell_type": "markdown",
   "metadata": {},
   "source": [
    "We'll use the `get` method from the `requests` library in order to get a **response object** from the Hacker News API.\n",
    "\n",
    "The response object allows us to retrieve the data returned from a Hacker News item.\n",
    "\n",
    "I'm curious about post number `8863` on Hacker News. We can simply append `/item/8863` to the API URL string.\n",
    "\n",
    "Below, we assign a variable named `hacker_news_response` to the returned response object."
   ]
  },
  {
   "cell_type": "code",
   "execution_count": 2,
   "metadata": {},
   "outputs": [],
   "source": [
    "hacker_news_response = get('https://hacker-news.firebaseio.com/v0/item/8863.json')"
   ]
  },
  {
   "cell_type": "markdown",
   "metadata": {},
   "source": [
    "We can see the type of this object below to be a response object from the `requests` library."
   ]
  },
  {
   "cell_type": "code",
   "execution_count": 3,
   "metadata": {},
   "outputs": [
    {
     "data": {
      "text/plain": [
       "requests.models.Response"
      ]
     },
     "execution_count": 3,
     "metadata": {},
     "output_type": "execute_result"
    }
   ],
   "source": [
    "type(hacker_news_response)"
   ]
  },
  {
   "cell_type": "markdown",
   "metadata": {},
   "source": [
    "We can call the `text` attribute on `hacker_news_response` to get the content of the post. The content of this post is a giant string. We could convert that string to a Python dictionary if needed to easily parse the details."
   ]
  },
  {
   "cell_type": "code",
   "execution_count": 4,
   "metadata": {},
   "outputs": [
    {
     "data": {
      "text/plain": [
       "str"
      ]
     },
     "execution_count": 4,
     "metadata": {},
     "output_type": "execute_result"
    }
   ],
   "source": [
    "type(hacker_news_response.text)"
   ]
  },
  {
   "cell_type": "code",
   "execution_count": 6,
   "metadata": {},
   "outputs": [
    {
     "data": {
      "text/plain": [
       "'{\"by\":\"dhouston\",\"descendants\":71,\"id\":8863,\"kids\":[9224,8952,8917,8884,8887,8943,8869,8940,8908,8958,9005,8873,9671,9067,9055,8865,8881,8872,8955,10403,8903,8928,9125,8998,8901,8902,8907,8894,8870,8878,8980,8934,8876],\"score\":104,\"time\":1175714200,\"title\":\"My YC app: Dropbox - Throw away your USB drive\",\"type\":\"story\",\"url\":\"http://www.getdropbox.com/u/2/screencast.html\"}'"
      ]
     },
     "execution_count": 6,
     "metadata": {},
     "output_type": "execute_result"
    }
   ],
   "source": [
    "hacker_news_response.text"
   ]
  },
  {
   "cell_type": "markdown",
   "metadata": {},
   "source": [
    "This item was posted by username `dhouston` on unix epoch time of `1175714200` which is equivalent to Wednesday, April 4, 2007 at 7:16 PM. The title of the item was `My YC app: Dropbox - Throw away your USB drive`. "
   ]
  },
  {
   "cell_type": "markdown",
   "metadata": {},
   "source": [
    "We used Python to programmatically retreive the contents of a post on Hacker News. You could use this same URL, enter it in your browser search bar, and see the same results. Try it!"
   ]
  },
  {
   "cell_type": "markdown",
   "metadata": {},
   "source": [
    "#### Application to data science"
   ]
  },
  {
   "cell_type": "markdown",
   "metadata": {},
   "source": [
    "Retrieving data from sites is valuable in data science so you can later perform analysis on the data.\n",
    "\n",
    "For example, you could retrieve posts over time on Hacker News and see popular topics broken down by day or week. "
   ]
  },
  {
   "cell_type": "code",
   "execution_count": null,
   "metadata": {},
   "outputs": [],
   "source": []
  }
 ],
 "metadata": {
  "kernelspec": {
   "display_name": "Python 3",
   "language": "python",
   "name": "python3"
  },
  "language_info": {
   "codemirror_mode": {
    "name": "ipython",
    "version": 3
   },
   "file_extension": ".py",
   "mimetype": "text/x-python",
   "name": "python",
   "nbconvert_exporter": "python",
   "pygments_lexer": "ipython3",
   "version": "3.6.0"
  }
 },
 "nbformat": 4,
 "nbformat_minor": 2
}
