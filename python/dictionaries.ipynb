{
 "cells": [
  {
   "cell_type": "markdown",
   "metadata": {},
   "source": [
    "Title: Dictionaries Basics\n",
    "Slug: dictionaries\n",
    "Summary: Dictionaries data structure in Python\n",
    "Date: 2018-03-25 22:00  \n",
    "Category: Python \n",
    "Subcategory: Beginner Concepts\n",
    "Tags: dictionaries\n",
    "Keywords: dictionaries python\n",
    "Authors: Dan Friedman"
   ]
  },
  {
   "cell_type": "markdown",
   "metadata": {},
   "source": [
    "### Dictionary Definition"
   ]
  },
  {
   "cell_type": "markdown",
   "metadata": {},
   "source": [
    "A **dictionary** is a data structure. It contains a collection of indices called **keys** and a collection of **values** associated with each key.\n",
    "\n",
    "The association of a key and a value is called a **key-value pair** or an **item**.\n",
    "\n",
    "A simple dictionary example is a **mapping** of English words as keys to Spanish words as values.\n",
    "\n",
    "In a dictionary, each key is unique."
   ]
  },
  {
   "cell_type": "code",
   "execution_count": 1,
   "metadata": {},
   "outputs": [],
   "source": [
    "english_to_spanish = {'one': 'uno'}"
   ]
  },
  {
   "cell_type": "markdown",
   "metadata": {},
   "source": [
    "In English, `one` is equalivalent to `uno` in Spanish.\n",
    "\n",
    "We enclose a dictionary in curly braces.\n",
    "\n",
    "`one` is a key and `uno` is its value."
   ]
  },
  {
   "cell_type": "markdown",
   "metadata": {},
   "source": [
    "#### Add a key-value pair to a dictionary"
   ]
  },
  {
   "cell_type": "code",
   "execution_count": 5,
   "metadata": {},
   "outputs": [],
   "source": [
    "english_to_spanish['two'] = 'dos'"
   ]
  },
  {
   "cell_type": "code",
   "execution_count": 6,
   "metadata": {},
   "outputs": [
    {
     "data": {
      "text/plain": [
       "{'one': 'uno', 'two': 'dos'}"
      ]
     },
     "execution_count": 6,
     "metadata": {},
     "output_type": "execute_result"
    }
   ],
   "source": [
    "english_to_spanish"
   ]
  },
  {
   "cell_type": "markdown",
   "metadata": {},
   "source": [
    "#### Use a key to look up the corresponding value"
   ]
  },
  {
   "cell_type": "markdown",
   "metadata": {},
   "source": [
    "Dictionaries allow for easy lookup of values."
   ]
  },
  {
   "cell_type": "code",
   "execution_count": 7,
   "metadata": {},
   "outputs": [
    {
     "data": {
      "text/plain": [
       "'uno'"
      ]
     },
     "execution_count": 7,
     "metadata": {},
     "output_type": "execute_result"
    }
   ],
   "source": [
    "english_to_spanish['one']"
   ]
  },
  {
   "cell_type": "markdown",
   "metadata": {},
   "source": [
    "#### Check if a key appears in a dictionary"
   ]
  },
  {
   "cell_type": "markdown",
   "metadata": {},
   "source": [
    "The `in` operator can be used to see if a key exists in a dictionary. If it does, we return `True`, otherwise `False`."
   ]
  },
  {
   "cell_type": "code",
   "execution_count": 8,
   "metadata": {},
   "outputs": [
    {
     "data": {
      "text/plain": [
       "True"
      ]
     },
     "execution_count": 8,
     "metadata": {},
     "output_type": "execute_result"
    }
   ],
   "source": [
    "'two' in english_to_spanish"
   ]
  },
  {
   "cell_type": "markdown",
   "metadata": {},
   "source": [
    "#### Data types allowed for keys and values"
   ]
  },
  {
   "cell_type": "markdown",
   "metadata": {},
   "source": [
    "In a Python dictionary, the keys must be immutable meaning they can't be changed in place. Therefore, keys can be a data type such as a:\n",
    "\n",
    "- tuple (must contain only mutable objects)\n",
    "- int\n",
    "- float\n",
    "- string\n",
    "\n",
    "A key *cannot* be a list since lists are mutable and can be modified in place with index assignments or using methods like `append` or `extend`.\n",
    "\n",
    "Values in a dictionary do not have to be unique. The values of a dictionary can be of *any* data type.\n",
    "\n",
    "Here's an example of an acceptable dictionary with various data types as keys and values."
   ]
  },
  {
   "cell_type": "code",
   "execution_count": 14,
   "metadata": {},
   "outputs": [],
   "source": [
    "a = {(3,2): 1, 9.5: 3.14, 3: (3.1), 'hi': 'yo'}"
   ]
  },
  {
   "cell_type": "markdown",
   "metadata": {},
   "source": [
    "#### A more complex example"
   ]
  },
  {
   "cell_type": "markdown",
   "metadata": {},
   "source": [
    "A common use case of dictionaries in software applications is to store personally identifiable information of users.\n",
    "\n",
    "In a software application, there could be two users with the same first and last name. Therefore, each user is tyipcally assigned a unique id as an integer. \n",
    "\n",
    "If we lookup a user's id, we may find information about them as seen below."
   ]
  },
  {
   "cell_type": "code",
   "execution_count": 9,
   "metadata": {},
   "outputs": [],
   "source": [
    "users = {10: {'first_name': 'Dan', 'last_name': 'Friedman', 'email': 'dan@dfrieds.com'},\n",
    "        11: {'first_name': 'May', 'last_name': 'Parker', 'email': 'aunt-may@gmail.com'}}"
   ]
  },
  {
   "cell_type": "markdown",
   "metadata": {},
   "source": [
    "This example shows how a value can also be another dictionary of key-value pairs."
   ]
  }
 ],
 "metadata": {
  "kernelspec": {
   "display_name": "Python 3",
   "language": "python",
   "name": "python3"
  },
  "language_info": {
   "codemirror_mode": {
    "name": "ipython",
    "version": 3
   },
   "file_extension": ".py",
   "mimetype": "text/x-python",
   "name": "python",
   "nbconvert_exporter": "python",
   "pygments_lexer": "ipython3",
   "version": "3.6.0"
  }
 },
 "nbformat": 4,
 "nbformat_minor": 2
}
