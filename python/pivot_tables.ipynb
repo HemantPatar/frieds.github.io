{
 "cells": [
  {
   "cell_type": "markdown",
   "metadata": {},
   "source": [
    "Title: Pivot Tables \n",
    "Slug: pivot-table-python-pandas\n",
    "Summary: Implementing a pivot table in Python using pandas with simple examples\n",
    "Date: 2018-11-23 12:00  \n",
    "Category: Python\n",
    "Subcategory: Data Analysis in pandas\n",
    "PostType: Tutorial\n",
    "Keywords: pivot table pandas\n",
    "Tags: pivot table, python, pandas\n",
    "Authors: Dan Friedman"
   ]
  },
  {
   "cell_type": "markdown",
   "metadata": {},
   "source": [
    "**Pivot tables** allow us to perform group-bys on columns and specify aggregate metrics for columns too. This data analysis technique is very popular in GUI spreadsheet applications and also works well in Python using pandas."
   ]
  },
  {
   "cell_type": "markdown",
   "metadata": {},
   "source": [
    "### Import Modules"
   ]
  },
  {
   "cell_type": "code",
   "execution_count": 28,
   "metadata": {},
   "outputs": [],
   "source": [
    "import pandas as pd\n",
    "import seaborn as sns\n",
    "import numpy as np"
   ]
  },
  {
   "cell_type": "markdown",
   "metadata": {},
   "source": [
    "### Example 1: Pivot Tables with Flights Dataset"
   ]
  },
  {
   "cell_type": "markdown",
   "metadata": {},
   "source": [
    "#### Get Data"
   ]
  },
  {
   "cell_type": "markdown",
   "metadata": {},
   "source": [
    "Let's get the `flights` dataset included in the `seaborn` library and assign it to the DataFrame `df_flights`."
   ]
  },
  {
   "cell_type": "code",
   "execution_count": 14,
   "metadata": {},
   "outputs": [],
   "source": [
    "df_flights = sns.load_dataset('flights')"
   ]
  },
  {
   "cell_type": "markdown",
   "metadata": {},
   "source": [
    "Preview the first few rows of `df_flights`. \n",
    "\n",
    "Each row represents a month's flight history details. The `passengers` column represents that total number of passengers that flew that month."
   ]
  },
  {
   "cell_type": "code",
   "execution_count": 15,
   "metadata": {},
   "outputs": [
    {
     "data": {
      "text/html": [
       "<div>\n",
       "<table border=\"1\" class=\"dataframe\">\n",
       "  <thead>\n",
       "    <tr style=\"text-align: right;\">\n",
       "      <th></th>\n",
       "      <th>year</th>\n",
       "      <th>month</th>\n",
       "      <th>passengers</th>\n",
       "    </tr>\n",
       "  </thead>\n",
       "  <tbody>\n",
       "    <tr>\n",
       "      <th>0</th>\n",
       "      <td>1949</td>\n",
       "      <td>January</td>\n",
       "      <td>112</td>\n",
       "    </tr>\n",
       "    <tr>\n",
       "      <th>1</th>\n",
       "      <td>1949</td>\n",
       "      <td>February</td>\n",
       "      <td>118</td>\n",
       "    </tr>\n",
       "    <tr>\n",
       "      <th>2</th>\n",
       "      <td>1949</td>\n",
       "      <td>March</td>\n",
       "      <td>132</td>\n",
       "    </tr>\n",
       "    <tr>\n",
       "      <th>3</th>\n",
       "      <td>1949</td>\n",
       "      <td>April</td>\n",
       "      <td>129</td>\n",
       "    </tr>\n",
       "    <tr>\n",
       "      <th>4</th>\n",
       "      <td>1949</td>\n",
       "      <td>May</td>\n",
       "      <td>121</td>\n",
       "    </tr>\n",
       "  </tbody>\n",
       "</table>\n",
       "</div>"
      ],
      "text/plain": [
       "   year     month  passengers\n",
       "0  1949   January         112\n",
       "1  1949  February         118\n",
       "2  1949     March         132\n",
       "3  1949     April         129\n",
       "4  1949       May         121"
      ]
     },
     "execution_count": 15,
     "metadata": {},
     "output_type": "execute_result"
    }
   ],
   "source": [
    "df_flights.head()"
   ]
  },
  {
   "cell_type": "markdown",
   "metadata": {},
   "source": [
    "#### Implement Pivot Tables"
   ]
  },
  {
   "cell_type": "markdown",
   "metadata": {},
   "source": [
    "I want to know the sum of passengers that flew on planes for each year. So, from pandas, we'll call the `pivot_table()` method and set the following arguments:\n",
    "\n",
    "- `data` to be our DataFrame `df_flights`\n",
    "- `index` to be `year` since that's the column from `df_flights` that we want to appear as a unique value in each row\n",
    "- `values` as `passengers` since that's the column we want to apply some aggregate operation on\n",
    "- `aggfunc` to `sum` since we want to sum (aka total) up all values in `passengers` that belong to a unique year"
   ]
  },
  {
   "cell_type": "code",
   "execution_count": 19,
   "metadata": {},
   "outputs": [
    {
     "data": {
      "text/plain": [
       "year\n",
       "1949    1520\n",
       "1950    1676\n",
       "1951    2042\n",
       "1952    2364\n",
       "1953    2700\n",
       "1954    2867\n",
       "1955    3408\n",
       "1956    3939\n",
       "1957    4421\n",
       "1958    4572\n",
       "1959    5140\n",
       "1960    5714\n",
       "Name: passengers, dtype: int64"
      ]
     },
     "execution_count": 19,
     "metadata": {},
     "output_type": "execute_result"
    }
   ],
   "source": [
    "pd.pivot_table(data=df_flights, index='year', values='passengers', aggfunc='sum')"
   ]
  },
  {
   "cell_type": "markdown",
   "metadata": {},
   "source": [
    "We can see above that every year, the total number of passengers that flew increased each year. \n",
    "\n",
    "Now, I want to know the sum of passengers per month in the dataset. So, from pandas, we'll call the the `pivot_table()` method and include all of the same arguments above, except we'll set the `index` to be `month` since that's the column from `df_flights` that we want to appear as a unique value in each row."
   ]
  },
  {
   "cell_type": "code",
   "execution_count": 22,
   "metadata": {},
   "outputs": [
    {
     "data": {
      "text/plain": [
       "month\n",
       "January      2901\n",
       "February     2820\n",
       "March        3242\n",
       "April        3205\n",
       "May          3262\n",
       "June         3740\n",
       "July         4216\n",
       "August       4213\n",
       "September    3629\n",
       "October      3199\n",
       "November     2794\n",
       "December     3142\n",
       "Name: passengers, dtype: int64"
      ]
     },
     "execution_count": 22,
     "metadata": {},
     "output_type": "execute_result"
    }
   ],
   "source": [
    "pd.pivot_table(data=df_flights, index='month', values='passengers', aggfunc='sum')"
   ]
  },
  {
   "cell_type": "markdown",
   "metadata": {},
   "source": [
    "Our results indicate most people flew in the summer months of July and August.\n",
    "\n",
    "Now, I want to know the average number of passengers that flew per month in the dataset. So, from pandas, we'll call the the `pivot_table()` method and include all of the same arguments from the previous operation, except we'll set the `aggfunc` to `mean` since we want to find the mean (aka average) number of passengers that flew in each unique month."
   ]
  },
  {
   "cell_type": "code",
   "execution_count": 21,
   "metadata": {},
   "outputs": [
    {
     "data": {
      "text/plain": [
       "month\n",
       "January      241.750000\n",
       "February     235.000000\n",
       "March        270.166667\n",
       "April        267.083333\n",
       "May          271.833333\n",
       "June         311.666667\n",
       "July         351.333333\n",
       "August       351.083333\n",
       "September    302.416667\n",
       "October      266.583333\n",
       "November     232.833333\n",
       "December     261.833333\n",
       "Name: passengers, dtype: float64"
      ]
     },
     "execution_count": 21,
     "metadata": {},
     "output_type": "execute_result"
    }
   ],
   "source": [
    "pd.pivot_table(data=df_flights, index='month', values='passengers', aggfunc='mean')"
   ]
  },
  {
   "cell_type": "markdown",
   "metadata": {},
   "source": [
    "Now, I want to know the maximum number of passengers that flew per month in the dataset. So, from pandas, we'll call the the `pivot_table()` method and include all of the same arguments from the previous operation, except we'll set the `aggfunc` to `max` since we want to find the maximum (aka largest) number of passengers that flew in each unique month."
   ]
  },
  {
   "cell_type": "code",
   "execution_count": 33,
   "metadata": {},
   "outputs": [
    {
     "data": {
      "text/plain": [
       "month\n",
       "January      223.0\n",
       "February     214.5\n",
       "March        251.5\n",
       "April        252.0\n",
       "May          252.0\n",
       "June         289.5\n",
       "July         333.0\n",
       "August       320.0\n",
       "September    285.5\n",
       "October      251.5\n",
       "November     220.0\n",
       "December     253.5\n",
       "Name: passengers, dtype: float64"
      ]
     },
     "execution_count": 33,
     "metadata": {},
     "output_type": "execute_result"
    }
   ],
   "source": [
    "pd.pivot_table(data=df_flights, index='month', values='passengers', aggfunc='median')"
   ]
  },
  {
   "cell_type": "markdown",
   "metadata": {},
   "source": [
    "### Aggregate Operations"
   ]
  },
  {
   "cell_type": "markdown",
   "metadata": {},
   "source": [
    "Other aggregate operations you could perform with the following values to pass to the `aggfunc` argument are:\n",
    "\n",
    "value | description \n",
    "--- | ---\n",
    "`sum` | summation \n",
    "`mean` | average\n",
    "`count` | count\n",
    "`max` | maximum value\n",
    "`min` | minimum value\n",
    "`np.std` | standard deviation\n",
    "`median` | median"
   ]
  }
 ],
 "metadata": {
  "kernelspec": {
   "display_name": "Python 3",
   "language": "python",
   "name": "python3"
  },
  "language_info": {
   "codemirror_mode": {
    "name": "ipython",
    "version": 3
   },
   "file_extension": ".py",
   "mimetype": "text/x-python",
   "name": "python",
   "nbconvert_exporter": "python",
   "pygments_lexer": "ipython3",
   "version": "3.6.0"
  }
 },
 "nbformat": 4,
 "nbformat_minor": 2
}
