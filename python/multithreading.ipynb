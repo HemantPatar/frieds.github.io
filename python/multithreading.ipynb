{
 "cells": [
  {
   "cell_type": "markdown",
   "metadata": {},
   "source": [
    "Title: Multithreading\n",
    "Slug: multithreading\n",
    "Summary: Multithreading to perform two or more Python operations at the same time\n",
    "Date: 2018-04-23 15:00  \n",
    "Category: Python \n",
    "Subcategory: Intermediate Concepts\n",
    "Tags: multithreading\n",
    "Keywords: multithreading tutorial python\n",
    "Authors: Dan Friedman"
   ]
  },
  {
   "cell_type": "markdown",
   "metadata": {},
   "source": [
    "### Why is Performant Code Important"
   ]
  },
  {
   "cell_type": "markdown",
   "metadata": {},
   "source": [
    "In analyzing data, you may be dealing with thousands, millions or even billions of records. As you perform computations to gain insights, you'll likely do lots of data transformations.\n",
    "\n",
    "With each computation, to save even seconds or minutes can be greatly helpful for you to deliver insights to your team faster and ultimately get more work done over time.\n",
    "\n",
    "With parallelism in Python, you can do just that."
   ]
  },
  {
   "cell_type": "markdown",
   "metadata": {},
   "source": [
    "### Brief Overview"
   ]
  },
  {
   "cell_type": "markdown",
   "metadata": {},
   "source": [
    "**Parallelism** is when two or more tasks run *at the same time*. There's important terminology to understand regarding parallelism too.\n",
    "\n",
    "A **thread** is an execution context for code.\n",
    "\n",
    "A **process** is a program and state of all threads executing in a program.\n",
    "\n",
    "One process can have several threads running *at the same time*. One program could also have several proccess running *at the same time*.\n",
    "\n",
    "In Python, by default programs run as a single process with a single thread of execution; this uses just a single CPU. \n",
    "\n",
    "My Apple MacBook Pro has 4 CPU cores.\n",
    "\n",
    "When I run a Python program on my computer, 3 CPU cores, equivalent to 75% of my computer's *power*, sits idle.\n",
    "\n",
    "For parallelism to work, a computer must use multiple threads each running on its own core *at the same time*.\n",
    "\n",
    "Examples of parallelism can help with:\n",
    "- executing database queries\n",
    "- pre-processing lots of images to use for machine learning\n",
    "- web crawling \n",
    "\n",
    "This tutorial uses a few simple practical examples to illustrate parallelism through **multithreading** - using multiple threads. We'll compare runtimes that generates the same output using multithreading versus a tranditional Python program with no threading."
   ]
  },
  {
   "cell_type": "markdown",
   "metadata": {},
   "source": [
    "### `map` Function and Example"
   ]
  },
  {
   "cell_type": "markdown",
   "metadata": {},
   "source": [
    "The use of `map` will be applied in our multithreading example later; so I'll provide a brief introduction now.\n",
    "\n",
    "Below I wrote a function called `number_times_two` to take in a number, multiply it by two and return the result.\n",
    "\n",
    "`map` is a built-in Python function that helps us easily apply a function over every item in an iterable such as a list. \n",
    "\n",
    "We'll use the `map` function to apply `number_times_two` to every element in the list of numbers `[1, 2, 3, 4]`.\n",
    "\n",
    "This table illustrates the operations that will take place."
   ]
  },
  {
   "cell_type": "markdown",
   "metadata": {},
   "source": [
    "Input | `number_times_two` Operation | Result\n",
    "--- | --- | ---\n",
    "1 | 1*2 | 2\n",
    "2 | 2*2 | 4\n",
    "3 | 3*2 | 6\n",
    "4 | 4*2 | 8\n",
    "\n",
    "\n"
   ]
  },
  {
   "cell_type": "code",
   "execution_count": 163,
   "metadata": {},
   "outputs": [],
   "source": [
    "def number_times_two(number):\n",
    "    \"\"\"\n",
    "    Multiply a number by 2\n",
    "    \n",
    "    :param number: a value we'll use in our computation\n",
    "    :type number: (preferably an) int\n",
    "    \n",
    "    :returns: number*2\n",
    "    \"\"\"\n",
    "    return number*2"
   ]
  },
  {
   "cell_type": "code",
   "execution_count": 164,
   "metadata": {},
   "outputs": [
    {
     "data": {
      "text/plain": [
       "function"
      ]
     },
     "execution_count": 164,
     "metadata": {},
     "output_type": "execute_result"
    }
   ],
   "source": [
    "type(number_times_two)"
   ]
  },
  {
   "cell_type": "markdown",
   "metadata": {},
   "source": [
    "The `map` function returns an *map object* that is an *iterator*."
   ]
  },
  {
   "cell_type": "code",
   "execution_count": 165,
   "metadata": {},
   "outputs": [
    {
     "data": {
      "text/plain": [
       "<map at 0x10da060b8>"
      ]
     },
     "execution_count": 165,
     "metadata": {},
     "output_type": "execute_result"
    }
   ],
   "source": [
    "map(number_times_two, [1, 2, 3, 4])"
   ]
  },
  {
   "cell_type": "markdown",
   "metadata": {},
   "source": [
    "We can call the built-in `list` function to output our result, the *map* object, as a list."
   ]
  },
  {
   "cell_type": "code",
   "execution_count": 166,
   "metadata": {},
   "outputs": [
    {
     "data": {
      "text/plain": [
       "[2, 4, 6, 8]"
      ]
     },
     "execution_count": 166,
     "metadata": {},
     "output_type": "execute_result"
    }
   ],
   "source": [
    "list(map(number_times_two, [1, 2, 3, 4]))"
   ]
  },
  {
   "cell_type": "markdown",
   "metadata": {},
   "source": [
    "### Parallelism"
   ]
  },
  {
   "cell_type": "markdown",
   "metadata": {},
   "source": [
    "#### Import Modules"
   ]
  },
  {
   "cell_type": "code",
   "execution_count": 167,
   "metadata": {},
   "outputs": [],
   "source": [
    "from requests import get\n",
    "from multiprocessing.dummy import Pool as ThreadPool \n",
    "import matplotlib.pyplot as plt\n",
    "from time import time\n",
    "from concurrent.futures import ThreadPoolExecutor\n",
    "import numpy as np\n",
    "%matplotlib inline"
   ]
  },
  {
   "cell_type": "markdown",
   "metadata": {},
   "source": [
    "#### Helper Functions"
   ]
  },
  {
   "cell_type": "markdown",
   "metadata": {},
   "source": [
    "These functions below will help us visually illustrate the effect of multithreading so it's easier to understand."
   ]
  },
  {
   "cell_type": "code",
   "execution_count": 168,
   "metadata": {},
   "outputs": [],
   "source": [
    "def multithreading(function, iterable, number_of_threads):\n",
    "    \"\"\"\n",
    "    Maps a function across an iterable (such as a list of elements) with the optional use of multithreading.\n",
    "    \n",
    "    :param function: name of a function\n",
    "    :type function: function\n",
    "    \n",
    "    :param iterable: elements used as inputs to function parameter\n",
    "    :type iterable: list\n",
    "    \n",
    "    :param number_of_threads: number of threads to use in map operation\n",
    "    :type number_of_threads: int\n",
    "    \n",
    "    :returns list_objects: return objects from our function parameter calls\n",
    "    :return type: list\n",
    "    \"\"\"    \n",
    "    with ThreadPoolExecutor(max_workers=number_of_threads) as executor:\n",
    "        responses = executor.map(function, iterable)\n",
    "    list_responses = list(responses)\n",
    "    return list_responses"
   ]
  },
  {
   "cell_type": "code",
   "execution_count": 169,
   "metadata": {},
   "outputs": [],
   "source": [
    "def transform_timestamps_to_be_seconds_from_process_start_time(process_start_time, all_task_timestamps):\n",
    "    \"\"\"\n",
    "    Take list of start and end timestamps of # of seconds since epoch, and subtract the process start time from them all\n",
    "    \n",
    "    Therefore we'll know how far timestamps are from the 0th second, the start of the program.\n",
    "    \n",
    "    :param process_start_time: # of seconds since epoch for start of task\n",
    "    :type process_start_time: float\n",
    "    \n",
    "    :param all_task_timestamps: # of seconds since epoch for end of task\n",
    "    :type all_task_timestamps: list\n",
    "    \n",
    "    :return function_timestamps_starting_from_zero: same shape as all_task_timestamps but all values subtracted by process_start_time\n",
    "    :type function_timestamps_starting_from_zero: list\n",
    "    \"\"\"\n",
    "    function_timestamps_starting_from_zero = []\n",
    "    for task_times in all_task_timestamps:\n",
    "        start_and_stop_times = []\n",
    "        for each_time in task_times:\n",
    "            new_time = each_time - process_start_time\n",
    "            start_and_stop_times.append(new_time)\n",
    "        function_timestamps_starting_from_zero.append(start_and_stop_times)\n",
    "    return function_timestamps_starting_from_zero"
   ]
  },
  {
   "cell_type": "code",
   "execution_count": 170,
   "metadata": {},
   "outputs": [],
   "source": [
    "def separate_list_elements(list_of_lists):\n",
    "    \"\"\"\n",
    "    Given a list structure such as [[x, y], [x, y]] return a list of just the x's and another of just y's\n",
    "    \n",
    "    :param list_of_lists: list with nested lists\n",
    "    :type list_of_list: list\n",
    "    \n",
    "    :return start_values, end_values: two lists - one of all 0-th index values and another of 1st index values in each nested list\n",
    "    :return type: tuple storing two lists\n",
    "    \"\"\"\n",
    "    start_values = [inner_list[0] for inner_list in list_of_lists]\n",
    "    start_values = np.array(start_values)\n",
    "    \n",
    "    end_values = [inner_list[1] for inner_list in list_of_lists]\n",
    "    end_values = np.array(end_values)\n",
    "    return start_values, end_values"
   ]
  },
  {
   "cell_type": "code",
   "execution_count": 171,
   "metadata": {},
   "outputs": [],
   "source": [
    "def bar_colors_based_on_threads(number_of_threads):\n",
    "    \"\"\"\n",
    "    Make a list of colors the same length as the number_of_threads\n",
    "    \n",
    "    :param number_of_threads: number of threads used in multithreading operation\n",
    "    :type number_of_threads: int\n",
    "    \n",
    "    :return colors: list of colors chosen from good_colors\n",
    "    :type colors: list\n",
    "    \"\"\"\n",
    "    good_colors = ['firebrick', 'darkgreen', 'royalblue', 'rebeccapurple']\n",
    "    colors = sample(good_colors, number_of_threads)\n",
    "    return colors"
   ]
  },
  {
   "cell_type": "code",
   "execution_count": 192,
   "metadata": {},
   "outputs": [],
   "source": [
    "def visualize_task_times(start_times, end_times, plot_title, colors):\n",
    "    \"\"\"\n",
    "    Use Matplotlib module to create a horizontal bar chart of the time elapsed for each multithreading task.\n",
    "    \n",
    "    :param start_times: start times of tasks\n",
    "    :type start_times: list\n",
    "    \n",
    "    :param end_times: end times of tasks\n",
    "    :type end_times: list\n",
    "    \n",
    "    :param plot_title: title of plot\n",
    "    :type plot_title: string\n",
    "    \n",
    "    :param colors: colors of bars\n",
    "    :type colors: list\n",
    "    \n",
    "    :return: None\n",
    "    \"\"\"\n",
    "    plt.barh(range(len(start_times)), end_times-start_times, left=start_times, color=colors);\n",
    "    plt.grid(axis='x');\n",
    "    plt.ylabel(\"Tasks\");\n",
    "    plt.xlabel(\"Seconds\");\n",
    "    plt.title(plot_title);\n",
    "    plt.figure(figsize=(12, 10));\n",
    "    plt.show();\n",
    "    return None;"
   ]
  },
  {
   "cell_type": "code",
   "execution_count": 193,
   "metadata": {},
   "outputs": [],
   "source": [
    "def visualize_multithreading_effect(number_of_threads, function_name, iterable, plot_title):\n",
    "    \"\"\"\n",
    "    Perform multithreading given a function_name and number_of_threads and visualize tasks as bar chart\n",
    "    \n",
    "    :param number_of_threads: number of threads used in multithreading\n",
    "    :type number_of_threads: int\n",
    "    \n",
    "    :param function_name: name of function applied in multithreading operation\n",
    "    :type function_name: function\n",
    "    \n",
    "    :param iterable: elements used as inputs to function parameter\n",
    "    :type iterable: list\n",
    "    \n",
    "    :param plot_title: title of plot\n",
    "    :type plot_title: string\n",
    "    \n",
    "    :return: None\n",
    "    \"\"\"\n",
    "    process_start_time = time() # we track time here \n",
    "    time_logs_multhreading_op = multithreading(function_name, iterable, number_of_threads)\n",
    "    multithreading_task_timestamps = transform_timestamps_to_be_seconds_from_process_start_time(process_start_time, time_logs_multhreading_op)\n",
    "    start_times, end_times = separate_list_elements(multithreading_task_timestamps)\n",
    "    colors = bar_colors_based_on_threads(number_of_threads)\n",
    "    visualize_task_times(start_times, end_times, plot_title, colors)"
   ]
  },
  {
   "cell_type": "markdown",
   "metadata": {},
   "source": [
    "### Measure Server Response Times"
   ]
  },
  {
   "cell_type": "markdown",
   "metadata": {},
   "source": [
    "This is a popular example on the web. For a long list of URLs, we'll use the `requests` module to `get` a *response object*. \n",
    "\n",
    "With this *response object*, we could later perform operations to see the status of the request, get the contents of the site and more!"
   ]
  },
  {
   "cell_type": "code",
   "execution_count": 194,
   "metadata": {},
   "outputs": [],
   "source": [
    "twelve_urls = ['https://secure.capitalbikeshare.com/map/']*12"
   ]
  },
  {
   "cell_type": "code",
   "execution_count": 195,
   "metadata": {},
   "outputs": [],
   "source": [
    "def get_response_time_measurements(url):\n",
    "    \"\"\"\n",
    "    mark start time, then call the get method and pass in a url to receive a server response object, then mark end time\n",
    "    \n",
    "    :param url: address of a worldwide web page \n",
    "    :type url: string\n",
    "    \n",
    "    :returns: start_time and stop_time of this task\n",
    "    :type returns: list\n",
    "    \"\"\"\n",
    "    start_time = time()\n",
    "    try:\n",
    "        response = get(url)\n",
    "    except Exception as exception_object:\n",
    "        print('Error with request for url: {0}'.format(url))\n",
    "    stop_time = time()\n",
    "    return [start_time, stop_time]"
   ]
  },
  {
   "cell_type": "markdown",
   "metadata": {},
   "source": [
    "First, just to illustrate our `multithreading` function, I'll call the `multithreading` function relevant to this example.\n",
    "\n",
    "We'll be return a list of nested lists, in which each nested list will contain the start timestamp and end timestamp of each task - each task being getting a new server response."
   ]
  },
  {
   "cell_type": "code",
   "execution_count": 196,
   "metadata": {},
   "outputs": [
    {
     "data": {
      "text/plain": [
       "[[1524543670.5281558, 1524543671.434155],\n",
       " [1524543671.434238, 1524543672.322919],\n",
       " [1524543672.322981, 1524543673.379513],\n",
       " [1524543673.379573, 1524543674.401994],\n",
       " [1524543674.402056, 1524543675.429127],\n",
       " [1524543675.429194, 1524543676.4515998],\n",
       " [1524543676.451665, 1524543677.473718],\n",
       " [1524543677.473791, 1524543678.505676],\n",
       " [1524543678.505737, 1524543679.520997],\n",
       " [1524543679.521058, 1524543680.545258],\n",
       " [1524543680.545326, 1524543681.569432],\n",
       " [1524543681.569493, 1524543682.422249]]"
      ]
     },
     "execution_count": 196,
     "metadata": {},
     "output_type": "execute_result"
    }
   ],
   "source": [
    "multithreading(function=get_response_time_measurements, iterable=twelve_urls, number_of_threads=1)"
   ]
  },
  {
   "cell_type": "markdown",
   "metadata": {},
   "source": [
    "#### Multithreading with 1 Thread"
   ]
  },
  {
   "cell_type": "markdown",
   "metadata": {},
   "source": [
    "In the visualizations below, each color represents the use of one thread in the operations. \n",
    "\n",
    "So for multithreading with two threads, you'll see two color bars, one for each thread."
   ]
  },
  {
   "cell_type": "code",
   "execution_count": 197,
   "metadata": {},
   "outputs": [
    {
     "data": {
      "image/png": "[encoded data removed]",
      "text/plain": [
       "<matplotlib.figure.Figure at 0x10d768940>"
      ]
     },
     "metadata": {},
     "output_type": "display_data"
    },
    {
     "data": {
      "text/plain": [
       "<matplotlib.figure.Figure at 0x1273359b0>"
      ]
     },
     "metadata": {},
     "output_type": "display_data"
    }
   ],
   "source": [
    "visualize_multithreading_effect(number_of_threads=1,\n",
    "                                function_name=get_response_time_measurements,\n",
    "                                iterable=twelve_urls,\n",
    "                                plot_title=\"Tasks for URL Server Responses; 1 Thread\")"
   ]
  },
  {
   "cell_type": "markdown",
   "metadata": {},
   "source": [
    "#### Multithreading with 2 Threads"
   ]
  },
  {
   "cell_type": "code",
   "execution_count": 198,
   "metadata": {},
   "outputs": [
    {
     "data": {
      "image/png": "[encoded data removed]",
      "text/plain": [
       "<matplotlib.figure.Figure at 0x105003a20>"
      ]
     },
     "metadata": {},
     "output_type": "display_data"
    },
    {
     "data": {
      "text/plain": [
       "<matplotlib.figure.Figure at 0x1274519b0>"
      ]
     },
     "metadata": {},
     "output_type": "display_data"
    }
   ],
   "source": [
    "visualize_multithreading_effect(number_of_threads=2,\n",
    "                                function_name=get_response_time_measurements,\n",
    "                                iterable=twelve_urls,\n",
    "                                plot_title=\"Tasks for URL Server Responses; 2 Threads\")"
   ]
  },
  {
   "cell_type": "markdown",
   "metadata": {},
   "source": [
    "Let's visualize the effect of multithreading with 4 threads."
   ]
  },
  {
   "cell_type": "markdown",
   "metadata": {},
   "source": [
    "#### Multithreading with 4 Threads"
   ]
  },
  {
   "cell_type": "code",
   "execution_count": 199,
   "metadata": {},
   "outputs": [
    {
     "data": {
      "image/png": "[encoded data removed]",
      "text/plain": [
       "<matplotlib.figure.Figure at 0x103f80128>"
      ]
     },
     "metadata": {},
     "output_type": "display_data"
    },
    {
     "data": {
      "text/plain": [
       "<matplotlib.figure.Figure at 0x10d4838d0>"
      ]
     },
     "metadata": {},
     "output_type": "display_data"
    }
   ],
   "source": [
    "visualize_multithreading_effect(number_of_threads=4,\n",
    "                                function_name=get_response_time_measurements,\n",
    "                                iterable=twelve_urls,\n",
    "                                plot_title=\"Tasks for URL Server Responses; 4 Threads\")"
   ]
  },
  {
   "cell_type": "markdown",
   "metadata": {},
   "source": [
    "#### Single Thread"
   ]
  },
  {
   "cell_type": "markdown",
   "metadata": {},
   "source": [
    "Now, let's perform the same operation **without** the overhead of setting up multithreading."
   ]
  },
  {
   "cell_type": "code",
   "execution_count": 180,
   "metadata": {},
   "outputs": [
    {
     "name": "stdout",
     "output_type": "stream",
     "text": [
      "CPU times: user 301 ms, sys: 16.7 ms, total: 318 ms\n",
      "Wall time: 12.1 s\n"
     ]
    }
   ],
   "source": [
    "%%time\n",
    "\n",
    "# traditional python program without multithreading\n",
    "task_timestamps = list(map(get_response_time_measurements, different_urls));"
   ]
  },
  {
   "cell_type": "markdown",
   "metadata": {},
   "source": [
    "**Conclusion:** the process completed much quicker with multithreading compared to no threading; shortest runtime with 4 threads was ~3.25 seconds.\n",
    "\n",
    "The reason threading is much faster here is because the processor isn't working very hard to retreive the contents on the sites; however, the bottleneck is waiting for the site's server response to our HTTP request - an external resource. While one thread is performing a task of getting/waiting for a server response for one URL, another thread can be doing the same task for another URL.\n",
    "\n",
    "This is why threading can provide a large speed increase. The processor can switch between the threads whenever one of them is ready to do some work. "
   ]
  },
  {
   "cell_type": "markdown",
   "metadata": {},
   "source": [
    "### Example: Squares of Numbers"
   ]
  },
  {
   "cell_type": "markdown",
   "metadata": {},
   "source": [
    "Given this big list of numbers in `big_list`, we want to output a new list that has the square of all numbers in `big_list`."
   ]
  },
  {
   "cell_type": "code",
   "execution_count": 181,
   "metadata": {},
   "outputs": [],
   "source": [
    "big_list = range(1, 12000000)"
   ]
  },
  {
   "cell_type": "code",
   "execution_count": 182,
   "metadata": {},
   "outputs": [],
   "source": [
    "def square_value(x):\n",
    "    return x**2"
   ]
  },
  {
   "cell_type": "markdown",
   "metadata": {},
   "source": [
    "#### Multithreading"
   ]
  },
  {
   "cell_type": "markdown",
   "metadata": {},
   "source": [
    "Below I utilize code from another module of the Python standard library, `multiprocessing`, to perform multithreading for this operation. \n",
    "\n",
    "By default, we will use all available threads on our computer."
   ]
  },
  {
   "cell_type": "code",
   "execution_count": 183,
   "metadata": {},
   "outputs": [
    {
     "name": "stdout",
     "output_type": "stream",
     "text": [
      "CPU times: user 5.72 s, sys: 876 ms, total: 6.6 s\n",
      "Wall time: 6.63 s\n"
     ]
    }
   ],
   "source": [
    "%%time\n",
    "\n",
    "pool = ThreadPool() \n",
    "\n",
    "squares_pool_results = pool.map(square_value, big_list)\n",
    "\n",
    "pool.close()\n",
    "pool.join()"
   ]
  },
  {
   "cell_type": "markdown",
   "metadata": {},
   "source": [
    "#### Single Thread"
   ]
  },
  {
   "cell_type": "code",
   "execution_count": 184,
   "metadata": {},
   "outputs": [
    {
     "name": "stdout",
     "output_type": "stream",
     "text": [
      "CPU times: user 5.04 s, sys: 252 ms, total: 5.29 s\n",
      "Wall time: 5.31 s\n"
     ]
    }
   ],
   "source": [
    "%%time\n",
    "\n",
    "squares_multiline_results = []\n",
    "\n",
    "for number in big_list:\n",
    "    squares_multiline_results.append(number**2)"
   ]
  },
  {
   "cell_type": "markdown",
   "metadata": {},
   "source": [
    "**Conclusion:** process completes much faster *without* multithreading.\n",
    "\n",
    "This may come as a surprise that threading hurts our performance here.\n",
    "\n",
    "Using the threading module in Python or any other interpreted language with a global interpreter lock (GIL) can actually result in reduced performance if you're *just* doing a CPU bound task. This program must carry threading's additional overhead of creating new threads and synchronizing them. "
   ]
  },
  {
   "cell_type": "markdown",
   "metadata": {},
   "source": [
    "### Final thoughts"
   ]
  },
  {
   "cell_type": "markdown",
   "metadata": {},
   "source": [
    "We can utilize threading with simple code and in instances of non-CPU bound tasks, get optimal results.\n",
    "\n",
    "There's a lot of nuances to threading in Python we didn't cover in this tutorial. If you need to solve a more complex problem, I'd encourage you to do more research."
   ]
  }
 ],
 "metadata": {
  "kernelspec": {
   "display_name": "Python 3",
   "language": "python",
   "name": "python3"
  },
  "language_info": {
   "codemirror_mode": {
    "name": "ipython",
    "version": 3
   },
   "file_extension": ".py",
   "mimetype": "text/x-python",
   "name": "python",
   "nbconvert_exporter": "python",
   "pygments_lexer": "ipython3",
   "version": "3.6.0"
  }
 },
 "nbformat": 4,
 "nbformat_minor": 2
}
